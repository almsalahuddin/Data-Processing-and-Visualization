{
  "nbformat": 4,
  "nbformat_minor": 0,
  "metadata": {
    "colab": {
      "name": "Project Recreating thee Masters Proposal.ipynb",
      "provenance": [],
      "authorship_tag": "ABX9TyP+AouY3vHvSwcRSWbCROqO",
      "include_colab_link": true
    },
    "kernelspec": {
      "name": "python3",
      "display_name": "Python 3"
    },
    "language_info": {
      "name": "python"
    }
  },
  "cells": [
    {
      "cell_type": "markdown",
      "metadata": {
        "id": "view-in-github",
        "colab_type": "text"
      },
      "source": [
        "<a href=\"https://colab.research.google.com/github/almsalahuddin/Data-Processing-and-Visualization/blob/main/Project_Recreating_thee_Masters_Proposal.ipynb\" target=\"_parent\"><img src=\"https://colab.research.google.com/assets/colab-badge.svg\" alt=\"Open In Colab\"/></a>"
      ]
    },
    {
      "cell_type": "markdown",
      "source": [
        "# Project Recreate Masters # : CPSMA 4313 Spring 2022 [Dr. Jacob's](https://github.com/nurfnick) Data processing visualization\n",
        "\n",
        "## Project Recreating thee Masters Proposal\n",
        " \n",
        "\n",
        "### A L M SALAHUDDIN"
      ],
      "metadata": {
        "id": "2Dq-RY467PTO"
      }
    },
    {
      "cell_type": "markdown",
      "source": [
        "#1.Project Proposal:"
      ],
      "metadata": {
        "id": "NzmvE1qt-yY5"
      }
    },
    {
      "cell_type": "markdown",
      "source": [
        "I always wanted to learn how to create an area graph like the stock market, which shows the prices up and down over time. So, I will be trying to recreate an area graph for this project."
      ],
      "metadata": {
        "id": "G2kFtJ7gJIjm"
      }
    },
    {
      "cell_type": "markdown",
      "source": [
        "##(a)Visualization (link and image included)"
      ],
      "metadata": {
        "id": "kzfOEq8o-s0h"
      }
    },
    {
      "cell_type": "markdown",
      "source": [
        "The graphical visualization of Music Industry Sales (1973 - 2018).\n",
        "![Music Industry Sales (1973 - 2018)](https://images.squarespace-cdn.com/content/v1/55b6a6dce4b089e11621d3ed/1586289545447-DCMM9Z2PIOV6JZYLKKXV/Line+graph+example.png?format=750w)\n",
        "\n",
        "Gathered from [here](https://www.storytellingwithdata.com/blog/2020/4/9/what-is-an-area-graph) on 4/24/2022."
      ],
      "metadata": {
        "id": "wyBTSKa29M6F"
      }
    },
    {
      "cell_type": "markdown",
      "source": [
        "##(b) Dataset (link included)"
      ],
      "metadata": {
        "id": "lx5nhmSk-7S9"
      }
    },
    {
      "cell_type": "markdown",
      "source": [
        "Over the last two decades, the music industry faced many disruptions due to new forms of media. From the old vinyl disks all the way to free and paid music streaming as we have right now, with noticeable changes caused by Napster, iTunes Store and Spotify, to name a few. All of those changes impacted the consumer and the profitability of the music industry as a whole. With this dataset, we can explore how music sales varied as disruptions occurred within the industry."
      ],
      "metadata": {
        "id": "RakQqntWFR0G"
      }
    },
    {
      "cell_type": "markdown",
      "source": [
        "The dataset can be found [here](https://www.kaggle.com/datasets/andrewmvd/music-sales)"
      ],
      "metadata": {
        "id": "hb2PpOKc_ENh"
      }
    },
    {
      "cell_type": "markdown",
      "source": [
        "##(c) Visualization Excellence\n"
      ],
      "metadata": {
        "id": "5s1XwEn1_Lxr"
      }
    },
    {
      "cell_type": "markdown",
      "source": [
        "Area graphs are effective for Showing the rise and fall of various data series over time, and the above Visualization shows the rise and fall of different types of music sales formats in the US from 1973 to 2018. So, It is a perfect data visualization for the dataset. It is showing several series across several different time periods, and there is significant variation among series, which is changing over time. The graph is highlighted in different colors. Each highlighted bar represents a format of US music sales."
      ],
      "metadata": {
        "id": "8j-1vyPH_6sP"
      }
    },
    {
      "cell_type": "markdown",
      "source": [
        "##(d) Visualization Descriptions"
      ],
      "metadata": {
        "id": "yM0Q3j4P_USH"
      }
    },
    {
      "cell_type": "markdown",
      "source": [
        "The Visualization I have above is an area graph which shows the rise and fall of different formats of music sales in the US from the year starting 1973 till 2019. At the beginning of 1973, VINYL was the most popular format but over time, it lost its popularity, and a new popular format became the compact disk which was famous for the most prolonged period of time from 1983 to 2012."
      ],
      "metadata": {
        "id": "oPX9vXUEBJ6W"
      }
    },
    {
      "cell_type": "markdown",
      "source": [
        "##(e) Hardships\n"
      ],
      "metadata": {
        "id": "cR5naHJh_a5R"
      }
    },
    {
      "cell_type": "markdown",
      "source": [
        "Because my data series will occupy the same space in my graph, they might inevitably overlap. The BEST case scenario is that the data series I have found never cross over one another so that the chart looks like a mountain range where all peaks are visible. Also, giving name of each line of the graph might be difficult as well because I have never done that."
      ],
      "metadata": {
        "id": "XS_l6UjqBKwG"
      }
    }
  ]
}