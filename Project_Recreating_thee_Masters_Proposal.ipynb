{
  "nbformat": 4,
  "nbformat_minor": 0,
  "metadata": {
    "colab": {
      "name": "Project Recreating thee Masters Proposal.ipynb",
      "provenance": [],
      "authorship_tag": "ABX9TyPvViP8dL0oqpD+e8fC1E9K",
      "include_colab_link": true
    },
    "kernelspec": {
      "name": "python3",
      "display_name": "Python 3"
    },
    "language_info": {
      "name": "python"
    }
  },
  "cells": [
    {
      "cell_type": "markdown",
      "metadata": {
        "id": "view-in-github",
        "colab_type": "text"
      },
      "source": [
        "<a href=\"https://colab.research.google.com/github/almsalahuddin/Data-Processing-and-Visualization/blob/main/Project_Recreating_thee_Masters_Proposal.ipynb\" target=\"_parent\"><img src=\"https://colab.research.google.com/assets/colab-badge.svg\" alt=\"Open In Colab\"/></a>"
      ]
    },
    {
      "cell_type": "markdown",
      "source": [
        "# Project Recreate Masters # : CPSMA 4313 Spring 2022 [Dr. Jacob's](https://github.com/nurfnick) Data processing visualization\n",
        "\n",
        "## Project Recreating thee Masters Proposal\n",
        " \n",
        "\n",
        "### A L M SALAHUDDIN"
      ],
      "metadata": {
        "id": "2Dq-RY467PTO"
      }
    },
    {
      "cell_type": "markdown",
      "source": [
        "#1.Project Proposal:"
      ],
      "metadata": {
        "id": "NzmvE1qt-yY5"
      }
    },
    {
      "cell_type": "markdown",
      "source": [
        "##(a)Visualization (link and image included)"
      ],
      "metadata": {
        "id": "kzfOEq8o-s0h"
      }
    },
    {
      "cell_type": "markdown",
      "source": [
        "The graphical visualization of Music Industry Sales (1973 - 2019).\n",
        "![Music Industry Sales (1973 - 2019)](https://images.squarespace-cdn.com/content/v1/55b6a6dce4b089e11621d3ed/1586289545447-DCMM9Z2PIOV6JZYLKKXV/Line+graph+example.png?format=750w)\n",
        "\n",
        "Gathered from [here](https://www.storytellingwithdata.com/blog/2020/4/9/what-is-an-area-graph) on 4/24/2022."
      ],
      "metadata": {
        "id": "wyBTSKa29M6F"
      }
    },
    {
      "cell_type": "markdown",
      "source": [
        "##(b) Dataset (link included)"
      ],
      "metadata": {
        "id": "lx5nhmSk-7S9"
      }
    },
    {
      "cell_type": "markdown",
      "source": [
        "Data set can be found [here](https://www.kaggle.com/datasets/andrewmvd/music-sales)"
      ],
      "metadata": {
        "id": "hb2PpOKc_ENh"
      }
    },
    {
      "cell_type": "markdown",
      "source": [
        "##(c) Visualization Excellence\n"
      ],
      "metadata": {
        "id": "5s1XwEn1_Lxr"
      }
    },
    {
      "cell_type": "markdown",
      "source": [
        "##(d) Visualization Descriptions"
      ],
      "metadata": {
        "id": "yM0Q3j4P_USH"
      }
    },
    {
      "cell_type": "markdown",
      "source": [
        "##(e) Hardships\n"
      ],
      "metadata": {
        "id": "cR5naHJh_a5R"
      }
    }
  ]
}