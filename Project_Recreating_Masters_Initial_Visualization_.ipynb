{
  "nbformat": 4,
  "nbformat_minor": 0,
  "metadata": {
    "colab": {
      "name": "Project Recreating Masters Initial Visualization .ipynb",
      "provenance": [],
      "authorship_tag": "ABX9TyPPPVvw9xV0RVh5lq3BfEV4",
      "include_colab_link": true
    },
    "kernelspec": {
      "name": "python3",
      "display_name": "Python 3"
    },
    "language_info": {
      "name": "python"
    }
  },
  "cells": [
    {
      "cell_type": "markdown",
      "metadata": {
        "id": "view-in-github",
        "colab_type": "text"
      },
      "source": [
        "<a href=\"https://colab.research.google.com/github/almsalahuddin/Data-Processing-and-Visualization/blob/main/Project_Recreating_Masters_Initial_Visualization_.ipynb\" target=\"_parent\"><img src=\"https://colab.research.google.com/assets/colab-badge.svg\" alt=\"Open In Colab\"/></a>"
      ]
    },
    {
      "cell_type": "markdown",
      "source": [
        "# Project Recreate Masters # : CPSMA 4313 Spring 2022 [Dr. Jacob's](https://github.com/nurfnick) Data processing visualization\n",
        "\n",
        "## Project Recreating Masters Initial Visualization\n",
        " \n",
        "\n",
        "### A L M SALAHUDDIN"
      ],
      "metadata": {
        "id": "2Dq-RY467PTO"
      }
    },
    {
      "cell_type": "markdown",
      "source": [
        "#1. Project Proposal:"
      ],
      "metadata": {
        "id": "NzmvE1qt-yY5"
      }
    },
    {
      "cell_type": "markdown",
      "source": [
        "I always wanted to learn how to create an area graph like the stock market, which shows the prices up and down over time. So, I will be trying to recreate an area graph for this project."
      ],
      "metadata": {
        "id": "G2kFtJ7gJIjm"
      }
    },
    {
      "cell_type": "markdown",
      "source": [
        "##(a)Visualization (link and image included)"
      ],
      "metadata": {
        "id": "kzfOEq8o-s0h"
      }
    },
    {
      "cell_type": "markdown",
      "source": [
        "The graphical visualization of Music Industry Sales (1973 - 2018).\n",
        "![Music Industry Sales (1973 - 2018)](https://images.squarespace-cdn.com/content/v1/55b6a6dce4b089e11621d3ed/1586289545447-DCMM9Z2PIOV6JZYLKKXV/Line+graph+example.png?format=750w)\n",
        "\n",
        "Gathered from [here](https://www.storytellingwithdata.com/blog/2020/4/9/what-is-an-area-graph) on 4/24/2022."
      ],
      "metadata": {
        "id": "wyBTSKa29M6F"
      }
    },
    {
      "cell_type": "markdown",
      "source": [
        "##(b) Dataset (link included)"
      ],
      "metadata": {
        "id": "lx5nhmSk-7S9"
      }
    },
    {
      "cell_type": "markdown",
      "source": [
        "Over the last two decades, the music industry faced many disruptions due to new forms of media. From the old vinyl disks all the way to free and paid music streaming as we have right now, with noticeable changes caused by Napster, iTunes Store and Spotify, to name a few. All of those changes impacted the consumer and the profitability of the music industry as a whole. With this dataset, we can explore how music sales varied as disruptions occurred within the industry."
      ],
      "metadata": {
        "id": "RakQqntWFR0G"
      }
    },
    {
      "cell_type": "markdown",
      "source": [
        "The dataset can be found [here](https://www.kaggle.com/datasets/andrewmvd/music-sales)"
      ],
      "metadata": {
        "id": "hb2PpOKc_ENh"
      }
    },
    {
      "cell_type": "markdown",
      "source": [
        "##(c) Visualization Excellence\n"
      ],
      "metadata": {
        "id": "5s1XwEn1_Lxr"
      }
    },
    {
      "cell_type": "markdown",
      "source": [
        "Area graphs are effective for Showing the rise and fall of various data series over time, and the above Visualization shows the rise and fall of different types of music sales formats in the US from 1973 to 2018. So, It is a perfect data visualization for the dataset. It is showing several series across several different time periods, and there is significant variation among series, which is changing over time. The graph is highlighted in different colors. Each highlighted bar represents a format of US music sales."
      ],
      "metadata": {
        "id": "8j-1vyPH_6sP"
      }
    },
    {
      "cell_type": "markdown",
      "source": [
        "##(d) Visualization Descriptions"
      ],
      "metadata": {
        "id": "yM0Q3j4P_USH"
      }
    },
    {
      "cell_type": "markdown",
      "source": [
        "The Visualization I have above is an area graph which shows the rise and fall of different formats of music sales in the US from the year starting 1973 till 2019. At the beginning of 1973, VINYL was the most popular format but over time, it lost its popularity, and a new popular format became the compact disk which was famous for the most prolonged period of time from 1983 to 2012."
      ],
      "metadata": {
        "id": "oPX9vXUEBJ6W"
      }
    },
    {
      "cell_type": "markdown",
      "source": [
        "##(e) Hardships\n"
      ],
      "metadata": {
        "id": "cR5naHJh_a5R"
      }
    },
    {
      "cell_type": "markdown",
      "source": [
        "Because my data series will occupy the same space in my graph, they might inevitably overlap. The BEST case scenario is that the data series I have found never cross over one another so that the chart looks like a mountain range where all peaks are visible. Also, giving name of each line of the graph might be difficult as well because I have never done that."
      ],
      "metadata": {
        "id": "XS_l6UjqBKwG"
      }
    },
    {
      "cell_type": "markdown",
      "source": [
        "\n",
        "#3. Initial Visualization:"
      ],
      "metadata": {
        "id": "r7w-1o3r0SKx"
      }
    },
    {
      "cell_type": "markdown",
      "source": [
        "##(a) Data is loaded"
      ],
      "metadata": {
        "id": "mf9i1Q3O0e9q"
      }
    },
    {
      "cell_type": "markdown",
      "source": [
        "Let's load our data set first."
      ],
      "metadata": {
        "id": "MuWb0uilugOm"
      }
    },
    {
      "cell_type": "code",
      "source": [
        "import pandas as pd\n",
        "df = pd.read_csv('https://raw.githubusercontent.com/almsalahuddin/Data-Processing-and-Visualization/main/3467260/musicdata.csv')\n",
        "df.head()"
      ],
      "metadata": {
        "id": "uWFTvKHKivNk",
        "outputId": "a9a78598-062d-421a-971e-249c1bd4ad03",
        "colab": {
          "base_uri": "https://localhost:8080/",
          "height": 204
        }
      },
      "execution_count": null,
      "outputs": [
        {
          "output_type": "execute_result",
          "data": {
            "text/plain": [
              "  format metric  year  number_of_records  value_actual\n",
              "0     CD  Units  1973                  1           NaN\n",
              "1     CD  Units  1974                  1           NaN\n",
              "2     CD  Units  1975                  1           NaN\n",
              "3     CD  Units  1976                  1           NaN\n",
              "4     CD  Units  1977                  1           NaN"
            ],
            "text/html": [
              "\n",
              "  <div id=\"df-2464ff1b-6983-4118-a958-ad72f3f318e7\">\n",
              "    <div class=\"colab-df-container\">\n",
              "      <div>\n",
              "<style scoped>\n",
              "    .dataframe tbody tr th:only-of-type {\n",
              "        vertical-align: middle;\n",
              "    }\n",
              "\n",
              "    .dataframe tbody tr th {\n",
              "        vertical-align: top;\n",
              "    }\n",
              "\n",
              "    .dataframe thead th {\n",
              "        text-align: right;\n",
              "    }\n",
              "</style>\n",
              "<table border=\"1\" class=\"dataframe\">\n",
              "  <thead>\n",
              "    <tr style=\"text-align: right;\">\n",
              "      <th></th>\n",
              "      <th>format</th>\n",
              "      <th>metric</th>\n",
              "      <th>year</th>\n",
              "      <th>number_of_records</th>\n",
              "      <th>value_actual</th>\n",
              "    </tr>\n",
              "  </thead>\n",
              "  <tbody>\n",
              "    <tr>\n",
              "      <th>0</th>\n",
              "      <td>CD</td>\n",
              "      <td>Units</td>\n",
              "      <td>1973</td>\n",
              "      <td>1</td>\n",
              "      <td>NaN</td>\n",
              "    </tr>\n",
              "    <tr>\n",
              "      <th>1</th>\n",
              "      <td>CD</td>\n",
              "      <td>Units</td>\n",
              "      <td>1974</td>\n",
              "      <td>1</td>\n",
              "      <td>NaN</td>\n",
              "    </tr>\n",
              "    <tr>\n",
              "      <th>2</th>\n",
              "      <td>CD</td>\n",
              "      <td>Units</td>\n",
              "      <td>1975</td>\n",
              "      <td>1</td>\n",
              "      <td>NaN</td>\n",
              "    </tr>\n",
              "    <tr>\n",
              "      <th>3</th>\n",
              "      <td>CD</td>\n",
              "      <td>Units</td>\n",
              "      <td>1976</td>\n",
              "      <td>1</td>\n",
              "      <td>NaN</td>\n",
              "    </tr>\n",
              "    <tr>\n",
              "      <th>4</th>\n",
              "      <td>CD</td>\n",
              "      <td>Units</td>\n",
              "      <td>1977</td>\n",
              "      <td>1</td>\n",
              "      <td>NaN</td>\n",
              "    </tr>\n",
              "  </tbody>\n",
              "</table>\n",
              "</div>\n",
              "      <button class=\"colab-df-convert\" onclick=\"convertToInteractive('df-2464ff1b-6983-4118-a958-ad72f3f318e7')\"\n",
              "              title=\"Convert this dataframe to an interactive table.\"\n",
              "              style=\"display:none;\">\n",
              "        \n",
              "  <svg xmlns=\"http://www.w3.org/2000/svg\" height=\"24px\"viewBox=\"0 0 24 24\"\n",
              "       width=\"24px\">\n",
              "    <path d=\"M0 0h24v24H0V0z\" fill=\"none\"/>\n",
              "    <path d=\"M18.56 5.44l.94 2.06.94-2.06 2.06-.94-2.06-.94-.94-2.06-.94 2.06-2.06.94zm-11 1L8.5 8.5l.94-2.06 2.06-.94-2.06-.94L8.5 2.5l-.94 2.06-2.06.94zm10 10l.94 2.06.94-2.06 2.06-.94-2.06-.94-.94-2.06-.94 2.06-2.06.94z\"/><path d=\"M17.41 7.96l-1.37-1.37c-.4-.4-.92-.59-1.43-.59-.52 0-1.04.2-1.43.59L10.3 9.45l-7.72 7.72c-.78.78-.78 2.05 0 2.83L4 21.41c.39.39.9.59 1.41.59.51 0 1.02-.2 1.41-.59l7.78-7.78 2.81-2.81c.8-.78.8-2.07 0-2.86zM5.41 20L4 18.59l7.72-7.72 1.47 1.35L5.41 20z\"/>\n",
              "  </svg>\n",
              "      </button>\n",
              "      \n",
              "  <style>\n",
              "    .colab-df-container {\n",
              "      display:flex;\n",
              "      flex-wrap:wrap;\n",
              "      gap: 12px;\n",
              "    }\n",
              "\n",
              "    .colab-df-convert {\n",
              "      background-color: #E8F0FE;\n",
              "      border: none;\n",
              "      border-radius: 50%;\n",
              "      cursor: pointer;\n",
              "      display: none;\n",
              "      fill: #1967D2;\n",
              "      height: 32px;\n",
              "      padding: 0 0 0 0;\n",
              "      width: 32px;\n",
              "    }\n",
              "\n",
              "    .colab-df-convert:hover {\n",
              "      background-color: #E2EBFA;\n",
              "      box-shadow: 0px 1px 2px rgba(60, 64, 67, 0.3), 0px 1px 3px 1px rgba(60, 64, 67, 0.15);\n",
              "      fill: #174EA6;\n",
              "    }\n",
              "\n",
              "    [theme=dark] .colab-df-convert {\n",
              "      background-color: #3B4455;\n",
              "      fill: #D2E3FC;\n",
              "    }\n",
              "\n",
              "    [theme=dark] .colab-df-convert:hover {\n",
              "      background-color: #434B5C;\n",
              "      box-shadow: 0px 1px 3px 1px rgba(0, 0, 0, 0.15);\n",
              "      filter: drop-shadow(0px 1px 2px rgba(0, 0, 0, 0.3));\n",
              "      fill: #FFFFFF;\n",
              "    }\n",
              "  </style>\n",
              "\n",
              "      <script>\n",
              "        const buttonEl =\n",
              "          document.querySelector('#df-2464ff1b-6983-4118-a958-ad72f3f318e7 button.colab-df-convert');\n",
              "        buttonEl.style.display =\n",
              "          google.colab.kernel.accessAllowed ? 'block' : 'none';\n",
              "\n",
              "        async function convertToInteractive(key) {\n",
              "          const element = document.querySelector('#df-2464ff1b-6983-4118-a958-ad72f3f318e7');\n",
              "          const dataTable =\n",
              "            await google.colab.kernel.invokeFunction('convertToInteractive',\n",
              "                                                     [key], {});\n",
              "          if (!dataTable) return;\n",
              "\n",
              "          const docLinkHtml = 'Like what you see? Visit the ' +\n",
              "            '<a target=\"_blank\" href=https://colab.research.google.com/notebooks/data_table.ipynb>data table notebook</a>'\n",
              "            + ' to learn more about interactive tables.';\n",
              "          element.innerHTML = '';\n",
              "          dataTable['output_type'] = 'display_data';\n",
              "          await google.colab.output.renderOutput(dataTable, element);\n",
              "          const docLink = document.createElement('div');\n",
              "          docLink.innerHTML = docLinkHtml;\n",
              "          element.appendChild(docLink);\n",
              "        }\n",
              "      </script>\n",
              "    </div>\n",
              "  </div>\n",
              "  "
            ]
          },
          "metadata": {},
          "execution_count": 118
        }
      ]
    },
    {
      "cell_type": "markdown",
      "source": [
        "Next, I will fill all the 'NaN' value with the mean of the 'value_actual' column using fillna function."
      ],
      "metadata": {
        "id": "VnA7tbPjukmi"
      }
    },
    {
      "cell_type": "code",
      "source": [
        "df.value_actual.fillna(value=df.value_actual.mean(), inplace=True)\n",
        "df.head()"
      ],
      "metadata": {
        "id": "w5fP0mD5ckWh",
        "outputId": "8bbb0b54-595c-4bfa-cad9-585df9e9c153",
        "colab": {
          "base_uri": "https://localhost:8080/",
          "height": 204
        }
      },
      "execution_count": null,
      "outputs": [
        {
          "output_type": "execute_result",
          "data": {
            "text/plain": [
              "  format metric  year  number_of_records  value_actual\n",
              "0     CD  Units  1973                  1    781.291237\n",
              "1     CD  Units  1974                  1    781.291237\n",
              "2     CD  Units  1975                  1    781.291237\n",
              "3     CD  Units  1976                  1    781.291237\n",
              "4     CD  Units  1977                  1    781.291237"
            ],
            "text/html": [
              "\n",
              "  <div id=\"df-cf490285-fe7c-4053-b575-83a4244eb892\">\n",
              "    <div class=\"colab-df-container\">\n",
              "      <div>\n",
              "<style scoped>\n",
              "    .dataframe tbody tr th:only-of-type {\n",
              "        vertical-align: middle;\n",
              "    }\n",
              "\n",
              "    .dataframe tbody tr th {\n",
              "        vertical-align: top;\n",
              "    }\n",
              "\n",
              "    .dataframe thead th {\n",
              "        text-align: right;\n",
              "    }\n",
              "</style>\n",
              "<table border=\"1\" class=\"dataframe\">\n",
              "  <thead>\n",
              "    <tr style=\"text-align: right;\">\n",
              "      <th></th>\n",
              "      <th>format</th>\n",
              "      <th>metric</th>\n",
              "      <th>year</th>\n",
              "      <th>number_of_records</th>\n",
              "      <th>value_actual</th>\n",
              "    </tr>\n",
              "  </thead>\n",
              "  <tbody>\n",
              "    <tr>\n",
              "      <th>0</th>\n",
              "      <td>CD</td>\n",
              "      <td>Units</td>\n",
              "      <td>1973</td>\n",
              "      <td>1</td>\n",
              "      <td>781.291237</td>\n",
              "    </tr>\n",
              "    <tr>\n",
              "      <th>1</th>\n",
              "      <td>CD</td>\n",
              "      <td>Units</td>\n",
              "      <td>1974</td>\n",
              "      <td>1</td>\n",
              "      <td>781.291237</td>\n",
              "    </tr>\n",
              "    <tr>\n",
              "      <th>2</th>\n",
              "      <td>CD</td>\n",
              "      <td>Units</td>\n",
              "      <td>1975</td>\n",
              "      <td>1</td>\n",
              "      <td>781.291237</td>\n",
              "    </tr>\n",
              "    <tr>\n",
              "      <th>3</th>\n",
              "      <td>CD</td>\n",
              "      <td>Units</td>\n",
              "      <td>1976</td>\n",
              "      <td>1</td>\n",
              "      <td>781.291237</td>\n",
              "    </tr>\n",
              "    <tr>\n",
              "      <th>4</th>\n",
              "      <td>CD</td>\n",
              "      <td>Units</td>\n",
              "      <td>1977</td>\n",
              "      <td>1</td>\n",
              "      <td>781.291237</td>\n",
              "    </tr>\n",
              "  </tbody>\n",
              "</table>\n",
              "</div>\n",
              "      <button class=\"colab-df-convert\" onclick=\"convertToInteractive('df-cf490285-fe7c-4053-b575-83a4244eb892')\"\n",
              "              title=\"Convert this dataframe to an interactive table.\"\n",
              "              style=\"display:none;\">\n",
              "        \n",
              "  <svg xmlns=\"http://www.w3.org/2000/svg\" height=\"24px\"viewBox=\"0 0 24 24\"\n",
              "       width=\"24px\">\n",
              "    <path d=\"M0 0h24v24H0V0z\" fill=\"none\"/>\n",
              "    <path d=\"M18.56 5.44l.94 2.06.94-2.06 2.06-.94-2.06-.94-.94-2.06-.94 2.06-2.06.94zm-11 1L8.5 8.5l.94-2.06 2.06-.94-2.06-.94L8.5 2.5l-.94 2.06-2.06.94zm10 10l.94 2.06.94-2.06 2.06-.94-2.06-.94-.94-2.06-.94 2.06-2.06.94z\"/><path d=\"M17.41 7.96l-1.37-1.37c-.4-.4-.92-.59-1.43-.59-.52 0-1.04.2-1.43.59L10.3 9.45l-7.72 7.72c-.78.78-.78 2.05 0 2.83L4 21.41c.39.39.9.59 1.41.59.51 0 1.02-.2 1.41-.59l7.78-7.78 2.81-2.81c.8-.78.8-2.07 0-2.86zM5.41 20L4 18.59l7.72-7.72 1.47 1.35L5.41 20z\"/>\n",
              "  </svg>\n",
              "      </button>\n",
              "      \n",
              "  <style>\n",
              "    .colab-df-container {\n",
              "      display:flex;\n",
              "      flex-wrap:wrap;\n",
              "      gap: 12px;\n",
              "    }\n",
              "\n",
              "    .colab-df-convert {\n",
              "      background-color: #E8F0FE;\n",
              "      border: none;\n",
              "      border-radius: 50%;\n",
              "      cursor: pointer;\n",
              "      display: none;\n",
              "      fill: #1967D2;\n",
              "      height: 32px;\n",
              "      padding: 0 0 0 0;\n",
              "      width: 32px;\n",
              "    }\n",
              "\n",
              "    .colab-df-convert:hover {\n",
              "      background-color: #E2EBFA;\n",
              "      box-shadow: 0px 1px 2px rgba(60, 64, 67, 0.3), 0px 1px 3px 1px rgba(60, 64, 67, 0.15);\n",
              "      fill: #174EA6;\n",
              "    }\n",
              "\n",
              "    [theme=dark] .colab-df-convert {\n",
              "      background-color: #3B4455;\n",
              "      fill: #D2E3FC;\n",
              "    }\n",
              "\n",
              "    [theme=dark] .colab-df-convert:hover {\n",
              "      background-color: #434B5C;\n",
              "      box-shadow: 0px 1px 3px 1px rgba(0, 0, 0, 0.15);\n",
              "      filter: drop-shadow(0px 1px 2px rgba(0, 0, 0, 0.3));\n",
              "      fill: #FFFFFF;\n",
              "    }\n",
              "  </style>\n",
              "\n",
              "      <script>\n",
              "        const buttonEl =\n",
              "          document.querySelector('#df-cf490285-fe7c-4053-b575-83a4244eb892 button.colab-df-convert');\n",
              "        buttonEl.style.display =\n",
              "          google.colab.kernel.accessAllowed ? 'block' : 'none';\n",
              "\n",
              "        async function convertToInteractive(key) {\n",
              "          const element = document.querySelector('#df-cf490285-fe7c-4053-b575-83a4244eb892');\n",
              "          const dataTable =\n",
              "            await google.colab.kernel.invokeFunction('convertToInteractive',\n",
              "                                                     [key], {});\n",
              "          if (!dataTable) return;\n",
              "\n",
              "          const docLinkHtml = 'Like what you see? Visit the ' +\n",
              "            '<a target=\"_blank\" href=https://colab.research.google.com/notebooks/data_table.ipynb>data table notebook</a>'\n",
              "            + ' to learn more about interactive tables.';\n",
              "          element.innerHTML = '';\n",
              "          dataTable['output_type'] = 'display_data';\n",
              "          await google.colab.output.renderOutput(dataTable, element);\n",
              "          const docLink = document.createElement('div');\n",
              "          docLink.innerHTML = docLinkHtml;\n",
              "          element.appendChild(docLink);\n",
              "        }\n",
              "      </script>\n",
              "    </div>\n",
              "  </div>\n",
              "  "
            ]
          },
          "metadata": {},
          "execution_count": 119
        }
      ]
    },
    {
      "cell_type": "markdown",
      "source": [
        "There are old and adjusted value of the each format and year. So, I will choose to work using only adjusted value."
      ],
      "metadata": {
        "id": "ePNpdaYRu6XD"
      }
    },
    {
      "cell_type": "code",
      "source": [
        "new=df[df['metric']=='Value (Adjusted)']\n",
        "new"
      ],
      "metadata": {
        "id": "3K_ymnZAMIyA",
        "outputId": "8d856932-2c88-4a83-edbd-d73076c9f1f1",
        "colab": {
          "base_uri": "https://localhost:8080/",
          "height": 419
        }
      },
      "execution_count": null,
      "outputs": [
        {
          "output_type": "execute_result",
          "data": {
            "text/plain": [
              "            format            metric  year  number_of_records  value_actual\n",
              "1927     8 - Track  Value (Adjusted)  1973                  1   2815.681824\n",
              "1928     8 - Track  Value (Adjusted)  1974                  1   2848.008609\n",
              "1929     8 - Track  Value (Adjusted)  1975                  1   2770.409498\n",
              "1930     8 - Track  Value (Adjusted)  1976                  1   3047.215772\n",
              "1931     8 - Track  Value (Adjusted)  1977                  1   3421.416287\n",
              "...            ...               ...   ...                ...           ...\n",
              "3003  Vinyl Single  Value (Adjusted)  2015                  1      6.205390\n",
              "3004  Vinyl Single  Value (Adjusted)  2016                  1      5.198931\n",
              "3005  Vinyl Single  Value (Adjusted)  2017                  1      6.339678\n",
              "3006  Vinyl Single  Value (Adjusted)  2018                  1      5.386197\n",
              "3007  Vinyl Single  Value (Adjusted)  2019                  1      6.795946\n",
              "\n",
              "[1081 rows x 5 columns]"
            ],
            "text/html": [
              "\n",
              "  <div id=\"df-f72a576e-eb3c-40ea-b2ce-bffca327c891\">\n",
              "    <div class=\"colab-df-container\">\n",
              "      <div>\n",
              "<style scoped>\n",
              "    .dataframe tbody tr th:only-of-type {\n",
              "        vertical-align: middle;\n",
              "    }\n",
              "\n",
              "    .dataframe tbody tr th {\n",
              "        vertical-align: top;\n",
              "    }\n",
              "\n",
              "    .dataframe thead th {\n",
              "        text-align: right;\n",
              "    }\n",
              "</style>\n",
              "<table border=\"1\" class=\"dataframe\">\n",
              "  <thead>\n",
              "    <tr style=\"text-align: right;\">\n",
              "      <th></th>\n",
              "      <th>format</th>\n",
              "      <th>metric</th>\n",
              "      <th>year</th>\n",
              "      <th>number_of_records</th>\n",
              "      <th>value_actual</th>\n",
              "    </tr>\n",
              "  </thead>\n",
              "  <tbody>\n",
              "    <tr>\n",
              "      <th>1927</th>\n",
              "      <td>8 - Track</td>\n",
              "      <td>Value (Adjusted)</td>\n",
              "      <td>1973</td>\n",
              "      <td>1</td>\n",
              "      <td>2815.681824</td>\n",
              "    </tr>\n",
              "    <tr>\n",
              "      <th>1928</th>\n",
              "      <td>8 - Track</td>\n",
              "      <td>Value (Adjusted)</td>\n",
              "      <td>1974</td>\n",
              "      <td>1</td>\n",
              "      <td>2848.008609</td>\n",
              "    </tr>\n",
              "    <tr>\n",
              "      <th>1929</th>\n",
              "      <td>8 - Track</td>\n",
              "      <td>Value (Adjusted)</td>\n",
              "      <td>1975</td>\n",
              "      <td>1</td>\n",
              "      <td>2770.409498</td>\n",
              "    </tr>\n",
              "    <tr>\n",
              "      <th>1930</th>\n",
              "      <td>8 - Track</td>\n",
              "      <td>Value (Adjusted)</td>\n",
              "      <td>1976</td>\n",
              "      <td>1</td>\n",
              "      <td>3047.215772</td>\n",
              "    </tr>\n",
              "    <tr>\n",
              "      <th>1931</th>\n",
              "      <td>8 - Track</td>\n",
              "      <td>Value (Adjusted)</td>\n",
              "      <td>1977</td>\n",
              "      <td>1</td>\n",
              "      <td>3421.416287</td>\n",
              "    </tr>\n",
              "    <tr>\n",
              "      <th>...</th>\n",
              "      <td>...</td>\n",
              "      <td>...</td>\n",
              "      <td>...</td>\n",
              "      <td>...</td>\n",
              "      <td>...</td>\n",
              "    </tr>\n",
              "    <tr>\n",
              "      <th>3003</th>\n",
              "      <td>Vinyl Single</td>\n",
              "      <td>Value (Adjusted)</td>\n",
              "      <td>2015</td>\n",
              "      <td>1</td>\n",
              "      <td>6.205390</td>\n",
              "    </tr>\n",
              "    <tr>\n",
              "      <th>3004</th>\n",
              "      <td>Vinyl Single</td>\n",
              "      <td>Value (Adjusted)</td>\n",
              "      <td>2016</td>\n",
              "      <td>1</td>\n",
              "      <td>5.198931</td>\n",
              "    </tr>\n",
              "    <tr>\n",
              "      <th>3005</th>\n",
              "      <td>Vinyl Single</td>\n",
              "      <td>Value (Adjusted)</td>\n",
              "      <td>2017</td>\n",
              "      <td>1</td>\n",
              "      <td>6.339678</td>\n",
              "    </tr>\n",
              "    <tr>\n",
              "      <th>3006</th>\n",
              "      <td>Vinyl Single</td>\n",
              "      <td>Value (Adjusted)</td>\n",
              "      <td>2018</td>\n",
              "      <td>1</td>\n",
              "      <td>5.386197</td>\n",
              "    </tr>\n",
              "    <tr>\n",
              "      <th>3007</th>\n",
              "      <td>Vinyl Single</td>\n",
              "      <td>Value (Adjusted)</td>\n",
              "      <td>2019</td>\n",
              "      <td>1</td>\n",
              "      <td>6.795946</td>\n",
              "    </tr>\n",
              "  </tbody>\n",
              "</table>\n",
              "<p>1081 rows × 5 columns</p>\n",
              "</div>\n",
              "      <button class=\"colab-df-convert\" onclick=\"convertToInteractive('df-f72a576e-eb3c-40ea-b2ce-bffca327c891')\"\n",
              "              title=\"Convert this dataframe to an interactive table.\"\n",
              "              style=\"display:none;\">\n",
              "        \n",
              "  <svg xmlns=\"http://www.w3.org/2000/svg\" height=\"24px\"viewBox=\"0 0 24 24\"\n",
              "       width=\"24px\">\n",
              "    <path d=\"M0 0h24v24H0V0z\" fill=\"none\"/>\n",
              "    <path d=\"M18.56 5.44l.94 2.06.94-2.06 2.06-.94-2.06-.94-.94-2.06-.94 2.06-2.06.94zm-11 1L8.5 8.5l.94-2.06 2.06-.94-2.06-.94L8.5 2.5l-.94 2.06-2.06.94zm10 10l.94 2.06.94-2.06 2.06-.94-2.06-.94-.94-2.06-.94 2.06-2.06.94z\"/><path d=\"M17.41 7.96l-1.37-1.37c-.4-.4-.92-.59-1.43-.59-.52 0-1.04.2-1.43.59L10.3 9.45l-7.72 7.72c-.78.78-.78 2.05 0 2.83L4 21.41c.39.39.9.59 1.41.59.51 0 1.02-.2 1.41-.59l7.78-7.78 2.81-2.81c.8-.78.8-2.07 0-2.86zM5.41 20L4 18.59l7.72-7.72 1.47 1.35L5.41 20z\"/>\n",
              "  </svg>\n",
              "      </button>\n",
              "      \n",
              "  <style>\n",
              "    .colab-df-container {\n",
              "      display:flex;\n",
              "      flex-wrap:wrap;\n",
              "      gap: 12px;\n",
              "    }\n",
              "\n",
              "    .colab-df-convert {\n",
              "      background-color: #E8F0FE;\n",
              "      border: none;\n",
              "      border-radius: 50%;\n",
              "      cursor: pointer;\n",
              "      display: none;\n",
              "      fill: #1967D2;\n",
              "      height: 32px;\n",
              "      padding: 0 0 0 0;\n",
              "      width: 32px;\n",
              "    }\n",
              "\n",
              "    .colab-df-convert:hover {\n",
              "      background-color: #E2EBFA;\n",
              "      box-shadow: 0px 1px 2px rgba(60, 64, 67, 0.3), 0px 1px 3px 1px rgba(60, 64, 67, 0.15);\n",
              "      fill: #174EA6;\n",
              "    }\n",
              "\n",
              "    [theme=dark] .colab-df-convert {\n",
              "      background-color: #3B4455;\n",
              "      fill: #D2E3FC;\n",
              "    }\n",
              "\n",
              "    [theme=dark] .colab-df-convert:hover {\n",
              "      background-color: #434B5C;\n",
              "      box-shadow: 0px 1px 3px 1px rgba(0, 0, 0, 0.15);\n",
              "      filter: drop-shadow(0px 1px 2px rgba(0, 0, 0, 0.3));\n",
              "      fill: #FFFFFF;\n",
              "    }\n",
              "  </style>\n",
              "\n",
              "      <script>\n",
              "        const buttonEl =\n",
              "          document.querySelector('#df-f72a576e-eb3c-40ea-b2ce-bffca327c891 button.colab-df-convert');\n",
              "        buttonEl.style.display =\n",
              "          google.colab.kernel.accessAllowed ? 'block' : 'none';\n",
              "\n",
              "        async function convertToInteractive(key) {\n",
              "          const element = document.querySelector('#df-f72a576e-eb3c-40ea-b2ce-bffca327c891');\n",
              "          const dataTable =\n",
              "            await google.colab.kernel.invokeFunction('convertToInteractive',\n",
              "                                                     [key], {});\n",
              "          if (!dataTable) return;\n",
              "\n",
              "          const docLinkHtml = 'Like what you see? Visit the ' +\n",
              "            '<a target=\"_blank\" href=https://colab.research.google.com/notebooks/data_table.ipynb>data table notebook</a>'\n",
              "            + ' to learn more about interactive tables.';\n",
              "          element.innerHTML = '';\n",
              "          dataTable['output_type'] = 'display_data';\n",
              "          await google.colab.output.renderOutput(dataTable, element);\n",
              "          const docLink = document.createElement('div');\n",
              "          docLink.innerHTML = docLinkHtml;\n",
              "          element.appendChild(docLink);\n",
              "        }\n",
              "      </script>\n",
              "    </div>\n",
              "  </div>\n",
              "  "
            ]
          },
          "metadata": {},
          "execution_count": 120
        }
      ]
    },
    {
      "cell_type": "markdown",
      "source": [
        "##(b) A visualization has been created"
      ],
      "metadata": {
        "id": "2fI6hcHH0kTX"
      }
    },
    {
      "cell_type": "markdown",
      "source": [
        "Next, I will import library and draw a line chart whrere using my updated dataset."
      ],
      "metadata": {
        "id": "pKlb7x0avJXk"
      }
    },
    {
      "cell_type": "code",
      "source": [
        "import plotly.express as px\n",
        "fig = px.line(new,  x='year', y='value_actual', color='format')\n",
        "fig.show()"
      ],
      "metadata": {
        "id": "42OLpfcKsLvi",
        "outputId": "c6b6f6b6-c3ba-4596-8cb6-10d450c8416e",
        "colab": {
          "base_uri": "https://localhost:8080/",
          "height": 542
        }
      },
      "execution_count": null,
      "outputs": [
        {
          "output_type": "display_data",
          "data": {
            "text/html": [
              "<html>\n",
              "<head><meta charset=\"utf-8\" /></head>\n",
              "<body>\n",
              "    <div>            <script src=\"https://cdnjs.cloudflare.com/ajax/libs/mathjax/2.7.5/MathJax.js?config=TeX-AMS-MML_SVG\"></script><script type=\"text/javascript\">if (window.MathJax) {MathJax.Hub.Config({SVG: {font: \"STIX-Web\"}});}</script>                <script type=\"text/javascript\">window.PlotlyConfig = {MathJaxConfig: 'local'};</script>\n",
              "        <script src=\"https://cdn.plot.ly/plotly-2.8.3.min.js\"></script>                <div id=\"a9313907-7c23-4497-8f29-36d039c4ab80\" class=\"plotly-graph-div\" style=\"height:525px; width:100%;\"></div>            <script type=\"text/javascript\">                                    window.PLOTLYENV=window.PLOTLYENV || {};                                    if (document.getElementById(\"a9313907-7c23-4497-8f29-36d039c4ab80\")) {                    Plotly.newPlot(                        \"a9313907-7c23-4497-8f29-36d039c4ab80\",                        [{\"hovertemplate\":\"format=8 - Track<br>year=%{x}<br>value_actual=%{y}<extra></extra>\",\"legendgroup\":\"8 - Track\",\"line\":{\"color\":\"#636efa\",\"dash\":\"solid\"},\"marker\":{\"symbol\":\"circle\"},\"mode\":\"lines\",\"name\":\"8 - Track\",\"showlegend\":true,\"x\":[1973,1974,1975,1976,1977,1978,1979,1980,1981,1982,1983,1984,1985,1986,1987,1988,1989,1990,1991,1992,1993,1994,1995,1996,1997,1998,1999,2000,2001,2002,2003,2004,2005,2006,2007,2008,2009,2010,2011,2012,2013,2014,2015,2016,2017,2018,2019],\"xaxis\":\"x\",\"y\":[2815.681824324,2848.008608519,2770.409498141,3047.215771529,3421.416287129,3717.221411043,2409.725690083,1635.087851942,880.315082508,95.374632124,781.2912371141006,781.2912371141006,781.2912371141006,781.2912371141006,781.2912371141006,781.2912371141006,781.2912371141006,781.2912371141006,781.2912371141006,781.2912371141006,781.2912371141006,781.2912371141006,781.2912371141006,781.2912371141006,781.2912371141006,781.2912371141006,781.2912371141006,781.2912371141006,781.2912371141006,781.2912371141006,781.2912371141006,781.2912371141006,781.2912371141006,781.2912371141006,781.2912371141006,781.2912371141006,781.2912371141006,781.2912371141006,781.2912371141006,781.2912371141006,781.2912371141006,781.2912371141006,781.2912371141006,781.2912371141006,781.2912371141006,781.2912371141006,781.2912371141006],\"yaxis\":\"y\",\"type\":\"scattergl\"},{\"hovertemplate\":\"format=CD<br>year=%{x}<br>value_actual=%{y}<extra></extra>\",\"legendgroup\":\"CD\",\"line\":{\"color\":\"#EF553B\",\"dash\":\"solid\"},\"marker\":{\"symbol\":\"circle\"},\"mode\":\"lines\",\"name\":\"CD\",\"showlegend\":true,\"x\":[1973,1974,1975,1976,1977,1978,1979,1980,1981,1982,1983,1984,1985,1986,1987,1988,1989,1990,1991,1992,1993,1994,1995,1996,1997,1998,1999,2000,2001,2002,2003,2004,2005,2006,2007,2008,2009,2010,2011,2012,2013,2014,2015,2016,2017,2018,2019],\"xaxis\":\"x\",\"y\":[781.2912371141006,781.2912371141006,781.2912371141006,781.2912371141006,781.2912371141006,781.2912371141006,781.2912371141006,781.2912371141006,781.2912371141006,781.2912371141006,44.14960241,254.180636189,925.449828067,2169.585544708,3586.399605634,4516.462927303,5335.190475,6751.53558684,8142.168640969,9706.037138275,11520.311348097,14601.947884615,15730.957688976,16187.862319312,15793.549661682,17905.400687117,19667.327785714,19618.928144599,18635.67744664,17115.944823235,15607.443017935,15491.677345156,13771.442761905,11885.767848214,9190.702658466,6496.779627316,5146.578220074,3973.859172873,3524.136143132,2767.776148872,2349.534897314,1918.215114615,1558.633451938,1204.497778348,1102.77435245,711.041239463,614.509779894],\"yaxis\":\"y\",\"type\":\"scattergl\"},{\"hovertemplate\":\"format=CD Single<br>year=%{x}<br>value_actual=%{y}<extra></extra>\",\"legendgroup\":\"CD Single\",\"line\":{\"color\":\"#00cc96\",\"dash\":\"solid\"},\"marker\":{\"symbol\":\"circle\"},\"mode\":\"lines\",\"name\":\"CD Single\",\"showlegend\":true,\"x\":[1973,1974,1975,1976,1977,1978,1979,1980,1981,1982,1983,1984,1985,1986,1987,1988,1989,1990,1991,1992,1993,1994,1995,1996,1997,1998,1999,2000,2001,2002,2003,2004,2005,2006,2007,2008,2009,2010,2011,2012,2013,2014,2015,2016,2017,2018,2019],\"xaxis\":\"x\",\"y\":[781.2912371141006,781.2912371141006,781.2912371141006,781.2912371141006,781.2912371141006,781.2912371141006,781.2912371141006,781.2912371141006,781.2912371141006,781.2912371141006,781.2912371141006,781.2912371141006,781.2912371141006,781.2912371141006,781.2912371141006,21.178686391,-1.443225,11.736358072,65.885174009,82.181972202,81.031768858,96.77704251,186.039116142,299.977397706,434.377968224,334.393082209,341.285214886,211.859778746,114.619795596,27.853680934,50.019847826,20.300979354,14.268619048,9.764677083,15.045901592,4.156001078,3.694172567,3.400068331,3.977965137,3.59119832,2.684056894,3.905023683,1.291079457,0.280361354,1.542258972,0.157981482,0.181678878],\"yaxis\":\"y\",\"type\":\"scattergl\"},{\"hovertemplate\":\"format=Cassette<br>year=%{x}<br>value_actual=%{y}<extra></extra>\",\"legendgroup\":\"Cassette\",\"line\":{\"color\":\"#ab63fa\",\"dash\":\"solid\"},\"marker\":{\"symbol\":\"circle\"},\"mode\":\"lines\",\"name\":\"Cassette\",\"showlegend\":true,\"x\":[1973,1974,1975,1976,1977,1978,1979,1980,1981,1982,1983,1984,1985,1986,1987,1988,1989,1990,1991,1992,1993,1994,1995,1996,1997,1998,1999,2000,2001,2002,2003,2004,2005,2006,2007,2008,2009,2010,2011,2012,2013,2014,2015,2016,2017,2018,2019],\"xaxis\":\"x\",\"y\":[437.611081081,452.196559838,469.496498141,654.643671353,1053.003089109,1763.719610429,2044.551710744,2187.356614078,2989.133768977,3667.949393782,4648.285756024,5865.839483157,5729.710552974,5830.425834854,6660.810060739,7315.507275571,6898.20315,6792.221628156,5668.002035242,5678.573835353,5158.786716955,5134.531004049,3864.379692913,3104.54609369,2425.476099065,2227.039106135,1629.084460984,929.391881533,524.594883117,298.148074486,150.1984875,32.07554738,17.14852381,4.69211756,3.699811867,1.068685991,781.2912371141006,781.2912371141006,781.2912371141006,781.2912371141006,781.2912371141006,781.2912371141006,781.2912371141006,781.2912371141006,781.2912371141006,781.2912371141006,781.2912371141006],\"yaxis\":\"y\",\"type\":\"scattergl\"},{\"hovertemplate\":\"format=Cassette Single<br>year=%{x}<br>value_actual=%{y}<extra></extra>\",\"legendgroup\":\"Cassette Single\",\"line\":{\"color\":\"#FFA15A\",\"dash\":\"solid\"},\"marker\":{\"symbol\":\"circle\"},\"mode\":\"lines\",\"name\":\"Cassette Single\",\"showlegend\":true,\"x\":[1973,1974,1975,1976,1977,1978,1979,1980,1981,1982,1983,1984,1985,1986,1987,1988,1989,1990,1991,1992,1993,1994,1995,1996,1997,1998,1999,2000,2001,2002,2003,2004,2005,2006,2007,2008,2009,2010,2011,2012,2013,2014,2015,2016,2017,2018,2019],\"xaxis\":\"x\",\"y\":[781.2912371141006,781.2912371141006,781.2912371141006,781.2912371141006,781.2912371141006,781.2912371141006,781.2912371141006,781.2912371141006,781.2912371141006,781.2912371141006,781.2912371141006,781.2912371141006,781.2912371141006,781.2912371141006,32.182175176,123.830482671,401.21655,504.467791125,432.477039648,544.47834355,528.121899654,474.224759109,396.40255315,308.450414914,212.649280374,148.061477301,73.658679472,6.829397213,-7.650943535,-2.273769872,781.2912371141006,781.2912371141006,781.2912371141006,781.2912371141006,781.2912371141006,781.2912371141006,781.2912371141006,781.2912371141006,781.2912371141006,781.2912371141006,781.2912371141006,781.2912371141006,781.2912371141006,781.2912371141006,781.2912371141006,781.2912371141006,781.2912371141006],\"yaxis\":\"y\",\"type\":\"scattergl\"},{\"hovertemplate\":\"format=DVD Audio<br>year=%{x}<br>value_actual=%{y}<extra></extra>\",\"legendgroup\":\"DVD Audio\",\"line\":{\"color\":\"#19d3f3\",\"dash\":\"solid\"},\"marker\":{\"symbol\":\"circle\"},\"mode\":\"lines\",\"name\":\"DVD Audio\",\"showlegend\":true,\"x\":[1973,1974,1975,1976,1977,1978,1979,1980,1981,1982,1983,1984,1985,1986,1987,1988,1989,1990,1991,1992,1993,1994,1995,1996,1997,1998,1999,2000,2001,2002,2003,2004,2005,2006,2007,2008,2009,2010,2011,2012,2013,2014,2015,2016,2017,2018,2019],\"xaxis\":\"x\",\"y\":[781.2912371141006,781.2912371141006,781.2912371141006,781.2912371141006,781.2912371141006,781.2912371141006,781.2912371141006,781.2912371141006,781.2912371141006,781.2912371141006,781.2912371141006,781.2912371141006,781.2912371141006,781.2912371141006,781.2912371141006,781.2912371141006,781.2912371141006,781.2912371141006,781.2912371141006,781.2912371141006,781.2912371141006,781.2912371141006,781.2912371141006,781.2912371141006,781.2912371141006,781.2912371141006,781.2912371141006,781.2912371141006,8.661445511,12.079402446,11.115521739,8.797091053,14.661333333,3.043535714,3.453157742,1.424914655,1.906669712,1.05519362,0.34096844,0.20389289,-0.544116778,2.310456232,5.842187676,3.020431045,2.718901189,3.377493968,1.067303184],\"yaxis\":\"y\",\"type\":\"scattergl\"},{\"hovertemplate\":\"format=Download Album<br>year=%{x}<br>value_actual=%{y}<extra></extra>\",\"legendgroup\":\"Download Album\",\"line\":{\"color\":\"#FF6692\",\"dash\":\"solid\"},\"marker\":{\"symbol\":\"circle\"},\"mode\":\"lines\",\"name\":\"Download Album\",\"showlegend\":true,\"x\":[1973,1974,1975,1976,1977,1978,1979,1980,1981,1982,1983,1984,1985,1986,1987,1988,1989,1990,1991,1992,1993,1994,1995,1996,1997,1998,1999,2000,2001,2002,2003,2004,2005,2006,2007,2008,2009,2010,2011,2012,2013,2014,2015,2016,2017,2018,2019],\"xaxis\":\"x\",\"y\":[781.2912371141006,781.2912371141006,781.2912371141006,781.2912371141006,781.2912371141006,781.2912371141006,781.2912371141006,781.2912371141006,781.2912371141006,781.2912371141006,781.2912371141006,781.2912371141006,781.2912371141006,781.2912371141006,781.2912371141006,781.2912371141006,781.2912371141006,781.2912371141006,781.2912371141006,781.2912371141006,781.2912371141006,781.2912371141006,781.2912371141006,781.2912371141006,781.2912371141006,781.2912371141006,781.2912371141006,781.2912371141006,781.2912371141006,781.2912371141006,781.2912371141006,61.579637374,177.637761905,349.879793155,613.428807525,754.37356702,886.958916644,1022.834348975,1217.030019694,1341.590982606,1352.2029528,1207.24757771,1148.145080643,925.232200992,697.237618181,508.704388424,394.533006158],\"yaxis\":\"y\",\"type\":\"scattergl\"},{\"hovertemplate\":\"format=Download Music Video<br>year=%{x}<br>value_actual=%{y}<extra></extra>\",\"legendgroup\":\"Download Music Video\",\"line\":{\"color\":\"#B6E880\",\"dash\":\"solid\"},\"marker\":{\"symbol\":\"circle\"},\"mode\":\"lines\",\"name\":\"Download Music Video\",\"showlegend\":true,\"x\":[1973,1974,1975,1976,1977,1978,1979,1980,1981,1982,1983,1984,1985,1986,1987,1988,1989,1990,1991,1992,1993,1994,1995,1996,1997,1998,1999,2000,2001,2002,2003,2004,2005,2006,2007,2008,2009,2010,2011,2012,2013,2014,2015,2016,2017,2018,2019],\"xaxis\":\"x\",\"y\":[781.2912371141006,781.2912371141006,781.2912371141006,781.2912371141006,781.2912371141006,781.2912371141006,781.2912371141006,781.2912371141006,781.2912371141006,781.2912371141006,781.2912371141006,781.2912371141006,781.2912371141006,781.2912371141006,781.2912371141006,781.2912371141006,781.2912371141006,781.2912371141006,781.2912371141006,781.2912371141006,781.2912371141006,781.2912371141006,781.2912371141006,781.2912371141006,781.2912371141006,781.2912371141006,781.2912371141006,781.2912371141006,781.2912371141006,781.2912371141006,781.2912371141006,781.2912371141006,4.84347619,24.982355655,34.778231548,49.040812715,48.739244513,42.911207213,36.824591556,23.208206935,18.372074986,14.662197203,6.918875516,4.547792467,2.905533136,2.261051168,1.858910402],\"yaxis\":\"y\",\"type\":\"scattergl\"},{\"hovertemplate\":\"format=Download Single<br>year=%{x}<br>value_actual=%{y}<extra></extra>\",\"legendgroup\":\"Download Single\",\"line\":{\"color\":\"#FF97FF\",\"dash\":\"solid\"},\"marker\":{\"symbol\":\"circle\"},\"mode\":\"lines\",\"name\":\"Download Single\",\"showlegend\":true,\"x\":[1973,1974,1975,1976,1977,1978,1979,1980,1981,1982,1983,1984,1985,1986,1987,1988,1989,1990,1991,1992,1993,1994,1995,1996,1997,1998,1999,2000,2001,2002,2003,2004,2005,2006,2007,2008,2009,2010,2011,2012,2013,2014,2015,2016,2017,2018,2019],\"xaxis\":\"x\",\"y\":[781.2912371141006,781.2912371141006,781.2912371141006,781.2912371141006,781.2912371141006,781.2912371141006,781.2912371141006,781.2912371141006,781.2912371141006,781.2912371141006,781.2912371141006,781.2912371141006,781.2912371141006,781.2912371141006,781.2912371141006,781.2912371141006,781.2912371141006,781.2912371141006,781.2912371141006,781.2912371141006,781.2912371141006,781.2912371141006,781.2912371141006,781.2912371141006,781.2912371141006,781.2912371141006,781.2912371141006,781.2912371141006,781.2912371141006,781.2912371141006,781.2912371141006,186.769010058,475.577,736.282014881,1000.182474674,1225.664089214,1396.635564029,1566.845281946,1730.301178542,1831.258645554,1726.739156044,1463.655387096,1278.449595315,958.87910313,707.692711218,499.316974193,414.804250982],\"yaxis\":\"y\",\"type\":\"scattergl\"},{\"hovertemplate\":\"format=Kiosk<br>year=%{x}<br>value_actual=%{y}<extra></extra>\",\"legendgroup\":\"Kiosk\",\"line\":{\"color\":\"#FECB52\",\"dash\":\"solid\"},\"marker\":{\"symbol\":\"circle\"},\"mode\":\"lines\",\"name\":\"Kiosk\",\"showlegend\":true,\"x\":[1973,1974,1975,1976,1977,1978,1979,1980,1981,1982,1983,1984,1985,1986,1987,1988,1989,1990,1991,1992,1993,1994,1995,1996,1997,1998,1999,2000,2001,2002,2003,2004,2005,2006,2007,2008,2009,2010,2011,2012,2013,2014,2015,2016,2017,2018,2019],\"xaxis\":\"x\",\"y\":[781.2912371141006,781.2912371141006,781.2912371141006,781.2912371141006,781.2912371141006,781.2912371141006,781.2912371141006,781.2912371141006,781.2912371141006,781.2912371141006,781.2912371141006,781.2912371141006,781.2912371141006,781.2912371141006,781.2912371141006,781.2912371141006,781.2912371141006,781.2912371141006,781.2912371141006,781.2912371141006,781.2912371141006,781.2912371141006,781.2912371141006,781.2912371141006,781.2912371141006,781.2912371141006,781.2912371141006,781.2912371141006,781.2912371141006,781.2912371141006,781.2912371141006,781.2912371141006,1.309047619,2.409465774,3.206503618,3.087315086,7.507511991,7.503599075,3.068715963,4.068866328,6.786152156,2.789051821,3.99147413,3.13587911,2.351668038,2.000651969,1.586470587],\"yaxis\":\"y\",\"type\":\"scattergl\"},{\"hovertemplate\":\"format=LP/EP<br>year=%{x}<br>value_actual=%{y}<extra></extra>\",\"legendgroup\":\"LP/EP\",\"line\":{\"color\":\"#636efa\",\"dash\":\"solid\"},\"marker\":{\"symbol\":\"circle\"},\"mode\":\"lines\",\"name\":\"LP/EP\",\"showlegend\":true,\"x\":[1973,1974,1975,1976,1977,1978,1979,1980,1981,1982,1983,1984,1985,1986,1987,1988,1989,1990,1991,1992,1993,1994,1995,1996,1997,1998,1999,2000,2001,2002,2003,2004,2005,2006,2007,2008,2009,2010,2011,2012,2013,2014,2015,2016,2017,2018,2019],\"xaxis\":\"x\",\"y\":[7174.518513514,7031.863935091,7056.703438662,7472.013901582,9260.605292079,9698.105185583,7243.615,6825.79368932,6586.050570957,5100.15845285,4335.388283133,3810.987118383,3042.460859665,2292.982034672,1784.872946303,1150.132336433,454.203525,169.199162204,55.185872247,24.59992516,18.754077509,30.706441296,42.106238189,59.962891013,53.042854206,53.327226994,48.79887515,41.124848432,39.5539345,29.132676487,30.150852717,26.120593436,18.58847619,19.909796131,28.24189725,67.327217456,76.028454765,104.229680908,135.705439252,178.967982236,231.274070194,263.336179145,359.598162864,378.607270991,405.212077272,426.820186646,497.588920842],\"yaxis\":\"y\",\"type\":\"scattergl\"},{\"hovertemplate\":\"format=Limited Tier Paid Subscription<br>year=%{x}<br>value_actual=%{y}<extra></extra>\",\"legendgroup\":\"Limited Tier Paid Subscription\",\"line\":{\"color\":\"#EF553B\",\"dash\":\"solid\"},\"marker\":{\"symbol\":\"circle\"},\"mode\":\"lines\",\"name\":\"Limited Tier Paid Subscription\",\"showlegend\":true,\"x\":[1973,1974,1975,1976,1977,1978,1979,1980,1981,1982,1983,1984,1985,1986,1987,1988,1989,1990,1991,1992,1993,1994,1995,1996,1997,1998,1999,2000,2001,2002,2003,2004,2005,2006,2007,2008,2009,2010,2011,2012,2013,2014,2015,2016,2017,2018,2019],\"xaxis\":\"x\",\"y\":[781.2912371141006,781.2912371141006,781.2912371141006,781.2912371141006,781.2912371141006,781.2912371141006,781.2912371141006,781.2912371141006,781.2912371141006,781.2912371141006,781.2912371141006,781.2912371141006,781.2912371141006,781.2912371141006,781.2912371141006,781.2912371141006,781.2912371141006,781.2912371141006,781.2912371141006,781.2912371141006,781.2912371141006,781.2912371141006,781.2912371141006,781.2912371141006,781.2912371141006,781.2912371141006,781.2912371141006,781.2912371141006,781.2912371141006,781.2912371141006,781.2912371141006,781.2912371141006,781.2912371141006,781.2912371141006,781.2912371141006,781.2912371141006,781.2912371141006,781.2912371141006,781.2912371141006,781.2912371141006,781.2912371141006,781.2912371141006,781.2912371141006,280.536691286,617.032317981,760.591366006,829.498739675],\"yaxis\":\"y\",\"type\":\"scattergl\"},{\"hovertemplate\":\"format=Music Video (Physical)<br>year=%{x}<br>value_actual=%{y}<extra></extra>\",\"legendgroup\":\"Music Video (Physical)\",\"line\":{\"color\":\"#00cc96\",\"dash\":\"solid\"},\"marker\":{\"symbol\":\"circle\"},\"mode\":\"lines\",\"name\":\"Music Video (Physical)\",\"showlegend\":true,\"x\":[1973,1974,1975,1976,1977,1978,1979,1980,1981,1982,1983,1984,1985,1986,1987,1988,1989,1990,1991,1992,1993,1994,1995,1996,1997,1998,1999,2000,2001,2002,2003,2004,2005,2006,2007,2008,2009,2010,2011,2012,2013,2014,2015,2016,2017,2018,2019],\"xaxis\":\"x\",\"y\":[781.2912371141006,781.2912371141006,781.2912371141006,781.2912371141006,781.2912371141006,781.2912371141006,781.2912371141006,781.2912371141006,781.2912371141006,781.2912371141006,781.2912371141006,781.2912371141006,781.2912371141006,781.2912371141006,781.2912371141006,781.2912371141006,237.92595,337.029082632,221.682024229,286.816905203,377.381578547,398.666212551,369.561923228,384.70756979,515.933347664,796.771509202,578.067178271,418.523277003,475.224643704,409.847019455,555.637142935,821.783644256,788.30847619,572.057900298,598.012924747,269.902584265,249.77373227,208.224874344,171.620781634,129.85137719,116.639672376,96.875251056,75.973614493,60.634642175,40.279585351,28.060663877,27.705246783],\"yaxis\":\"y\",\"type\":\"scattergl\"},{\"hovertemplate\":\"format=On-Demand Streaming (Ad-Supported)<br>year=%{x}<br>value_actual=%{y}<extra></extra>\",\"legendgroup\":\"On-Demand Streaming (Ad-Supported)\",\"line\":{\"color\":\"#ab63fa\",\"dash\":\"solid\"},\"marker\":{\"symbol\":\"circle\"},\"mode\":\"lines\",\"name\":\"On-Demand Streaming (Ad-Supported)\",\"showlegend\":true,\"x\":[1973,1974,1975,1976,1977,1978,1979,1980,1981,1982,1983,1984,1985,1986,1987,1988,1989,1990,1991,1992,1993,1994,1995,1996,1997,1998,1999,2000,2001,2002,2003,2004,2005,2006,2007,2008,2009,2010,2011,2012,2013,2014,2015,2016,2017,2018,2019],\"xaxis\":\"x\",\"y\":[781.2912371141006,781.2912371141006,781.2912371141006,781.2912371141006,781.2912371141006,781.2912371141006,781.2912371141006,781.2912371141006,781.2912371141006,781.2912371141006,781.2912371141006,781.2912371141006,781.2912371141006,781.2912371141006,781.2912371141006,781.2912371141006,781.2912371141006,781.2912371141006,781.2912371141006,781.2912371141006,781.2912371141006,781.2912371141006,781.2912371141006,781.2912371141006,781.2912371141006,781.2912371141006,781.2912371141006,781.2912371141006,781.2912371141006,781.2912371141006,781.2912371141006,781.2912371141006,781.2912371141006,781.2912371141006,781.2912371141006,781.2912371141006,781.2912371141006,781.2912371141006,129.340695033,190.339615647,242.396097837,306.475448007,401.245264147,521.288175026,686.918081261,773.294916688,908.149330523],\"yaxis\":\"y\",\"type\":\"scattergl\"},{\"hovertemplate\":\"format=Other Ad-Supported Streaming<br>year=%{x}<br>value_actual=%{y}<extra></extra>\",\"legendgroup\":\"Other Ad-Supported Streaming\",\"line\":{\"color\":\"#FFA15A\",\"dash\":\"solid\"},\"marker\":{\"symbol\":\"circle\"},\"mode\":\"lines\",\"name\":\"Other Ad-Supported Streaming\",\"showlegend\":true,\"x\":[1973,1974,1975,1976,1977,1978,1979,1980,1981,1982,1983,1984,1985,1986,1987,1988,1989,1990,1991,1992,1993,1994,1995,1996,1997,1998,1999,2000,2001,2002,2003,2004,2005,2006,2007,2008,2009,2010,2011,2012,2013,2014,2015,2016,2017,2018,2019],\"xaxis\":\"x\",\"y\":[781.2912371141006,781.2912371141006,781.2912371141006,781.2912371141006,781.2912371141006,781.2912371141006,781.2912371141006,781.2912371141006,781.2912371141006,781.2912371141006,781.2912371141006,781.2912371141006,781.2912371141006,781.2912371141006,781.2912371141006,781.2912371141006,781.2912371141006,781.2912371141006,781.2912371141006,781.2912371141006,781.2912371141006,781.2912371141006,781.2912371141006,781.2912371141006,781.2912371141006,781.2912371141006,781.2912371141006,781.2912371141006,781.2912371141006,781.2912371141006,781.2912371141006,781.2912371141006,781.2912371141006,781.2912371141006,781.2912371141006,781.2912371141006,781.2912371141006,781.2912371141006,781.2912371141006,781.2912371141006,781.2912371141006,781.2912371141006,781.2912371141006,86.559596683,273.040319024,255.967443871,251.064710118],\"yaxis\":\"y\",\"type\":\"scattergl\"},{\"hovertemplate\":\"format=Other Digital<br>year=%{x}<br>value_actual=%{y}<extra></extra>\",\"legendgroup\":\"Other Digital\",\"line\":{\"color\":\"#19d3f3\",\"dash\":\"solid\"},\"marker\":{\"symbol\":\"circle\"},\"mode\":\"lines\",\"name\":\"Other Digital\",\"showlegend\":true,\"x\":[1973,1974,1975,1976,1977,1978,1979,1980,1981,1982,1983,1984,1985,1986,1987,1988,1989,1990,1991,1992,1993,1994,1995,1996,1997,1998,1999,2000,2001,2002,2003,2004,2005,2006,2007,2008,2009,2010,2011,2012,2013,2014,2015,2016,2017,2018,2019],\"xaxis\":\"x\",\"y\":[781.2912371141006,781.2912371141006,781.2912371141006,781.2912371141006,781.2912371141006,781.2912371141006,781.2912371141006,781.2912371141006,781.2912371141006,781.2912371141006,781.2912371141006,781.2912371141006,781.2912371141006,781.2912371141006,781.2912371141006,781.2912371141006,781.2912371141006,781.2912371141006,781.2912371141006,781.2912371141006,781.2912371141006,781.2912371141006,781.2912371141006,781.2912371141006,781.2912371141006,781.2912371141006,781.2912371141006,781.2912371141006,781.2912371141006,781.2912371141006,781.2912371141006,781.2912371141006,781.2912371141006,781.2912371141006,781.2912371141006,781.2912371141006,781.2912371141006,781.2912371141006,781.2912371141006,781.2912371141006,781.2912371141006,781.2912371141006,781.2912371141006,18.259409536,17.610951916,20.199063312,21.517175006],\"yaxis\":\"y\",\"type\":\"scattergl\"},{\"hovertemplate\":\"format=Other Tapes<br>year=%{x}<br>value_actual=%{y}<extra></extra>\",\"legendgroup\":\"Other Tapes\",\"line\":{\"color\":\"#FF6692\",\"dash\":\"solid\"},\"marker\":{\"symbol\":\"circle\"},\"mode\":\"lines\",\"name\":\"Other Tapes\",\"showlegend\":true,\"x\":[1973,1974,1975,1976,1977,1978,1979,1980,1981,1982,1983,1984,1985,1986,1987,1988,1989,1990,1991,1992,1993,1994,1995,1996,1997,1998,1999,2000,2001,2002,2003,2004,2005,2006,2007,2008,2009,2010,2011,2012,2013,2014,2015,2016,2017,2018,2019],\"xaxis\":\"x\",\"y\":[89.825432432,68.970346856,48.470286245,22.914775044,781.2912371141006,781.2912371141006,781.2912371141006,781.2912371141006,781.2912371141006,781.2912371141006,781.2912371141006,781.2912371141006,781.2912371141006,781.2912371141006,781.2912371141006,781.2912371141006,781.2912371141006,781.2912371141006,781.2912371141006,781.2912371141006,781.2912371141006,781.2912371141006,781.2912371141006,781.2912371141006,781.2912371141006,781.2912371141006,781.2912371141006,781.2912371141006,781.2912371141006,781.2912371141006,781.2912371141006,781.2912371141006,781.2912371141006,781.2912371141006,781.2912371141006,781.2912371141006,781.2912371141006,781.2912371141006,781.2912371141006,781.2912371141006,781.2912371141006,781.2912371141006,781.2912371141006,781.2912371141006,781.2912371141006,781.2912371141006,781.2912371141006],\"yaxis\":\"y\",\"type\":\"scattergl\"},{\"hovertemplate\":\"format=Paid Subscription<br>year=%{x}<br>value_actual=%{y}<extra></extra>\",\"legendgroup\":\"Paid Subscription\",\"line\":{\"color\":\"#B6E880\",\"dash\":\"solid\"},\"marker\":{\"symbol\":\"circle\"},\"mode\":\"lines\",\"name\":\"Paid Subscription\",\"showlegend\":true,\"x\":[1973,1974,1975,1976,1977,1978,1979,1980,1981,1982,1983,1984,1985,1986,1987,1988,1989,1990,1991,1992,1993,1994,1995,1996,1997,1998,1999,2000,2001,2002,2003,2004,2005,2006,2007,2008,2009,2010,2011,2012,2013,2014,2015,2016,2017,2018,2019],\"xaxis\":\"x\",\"y\":[781.2912371141006,781.2912371141006,781.2912371141006,781.2912371141006,781.2912371141006,781.2912371141006,781.2912371141006,781.2912371141006,781.2912371141006,781.2912371141006,781.2912371141006,781.2912371141006,781.2912371141006,781.2912371141006,781.2912371141006,781.2912371141006,781.2912371141006,781.2912371141006,781.2912371141006,781.2912371141006,781.2912371141006,781.2912371141006,781.2912371141006,781.2912371141006,781.2912371141006,781.2912371141006,781.2912371141006,781.2912371141006,781.2912371141006,781.2912371141006,781.2912371141006,781.2912371141006,195.309904762,261.490443452,288.585325615,262.896753877,245.722059132,249.025694317,281.639931715,445.276306223,706.011657475,831.834027499,1247.676868955,2390.487544774,3651.028326883,4740.333580635,5934.397625188],\"yaxis\":\"y\",\"type\":\"scattergl\"},{\"hovertemplate\":\"format=Ringtones & Ringbacks<br>year=%{x}<br>value_actual=%{y}<extra></extra>\",\"legendgroup\":\"Ringtones & Ringbacks\",\"line\":{\"color\":\"#FF97FF\",\"dash\":\"solid\"},\"marker\":{\"symbol\":\"circle\"},\"mode\":\"lines\",\"name\":\"Ringtones & Ringbacks\",\"showlegend\":true,\"x\":[1973,1974,1975,1976,1977,1978,1979,1980,1981,1982,1983,1984,1985,1986,1987,1988,1989,1990,1991,1992,1993,1994,1995,1996,1997,1998,1999,2000,2001,2002,2003,2004,2005,2006,2007,2008,2009,2010,2011,2012,2013,2014,2015,2016,2017,2018,2019],\"xaxis\":\"x\",\"y\":[781.2912371141006,781.2912371141006,781.2912371141006,781.2912371141006,781.2912371141006,781.2912371141006,781.2912371141006,781.2912371141006,781.2912371141006,781.2912371141006,781.2912371141006,781.2912371141006,781.2912371141006,781.2912371141006,781.2912371141006,781.2912371141006,781.2912371141006,781.2912371141006,781.2912371141006,781.2912371141006,781.2912371141006,781.2912371141006,781.2912371141006,781.2912371141006,781.2912371141006,781.2912371141006,781.2912371141006,781.2912371141006,781.2912371141006,781.2912371141006,781.2912371141006,781.2912371141006,551.89447619,981.286639881,1302.08712301,1160.236757964,837.504670989,525.251935283,313.9182774,162.565728249,107.548976379,71.61127201,58.874581007,59.998070883,37.040368455,25.41009037,21.426736902],\"yaxis\":\"y\",\"type\":\"scattergl\"},{\"hovertemplate\":\"format=SACD<br>year=%{x}<br>value_actual=%{y}<extra></extra>\",\"legendgroup\":\"SACD\",\"line\":{\"color\":\"#FECB52\",\"dash\":\"solid\"},\"marker\":{\"symbol\":\"circle\"},\"mode\":\"lines\",\"name\":\"SACD\",\"showlegend\":true,\"x\":[1973,1974,1975,1976,1977,1978,1979,1980,1981,1982,1983,1984,1985,1986,1987,1988,1989,1990,1991,1992,1993,1994,1995,1996,1997,1998,1999,2000,2001,2002,2003,2004,2005,2006,2007,2008,2009,2010,2011,2012,2013,2014,2015,2016,2017,2018,2019],\"xaxis\":\"x\",\"y\":[781.2912371141006,781.2912371141006,781.2912371141006,781.2912371141006,781.2912371141006,781.2912371141006,781.2912371141006,781.2912371141006,781.2912371141006,781.2912371141006,781.2912371141006,781.2912371141006,781.2912371141006,781.2912371141006,781.2912371141006,781.2912371141006,781.2912371141006,781.2912371141006,781.2912371141006,781.2912371141006,781.2912371141006,781.2912371141006,781.2912371141006,781.2912371141006,781.2912371141006,781.2912371141006,781.2912371141006,781.2912371141006,781.2912371141006,781.2912371141006,36.542277717,22.466417152,13.09047619,6.974769345,4.43977424,3.681029526,2.860004568,1.993143504,1.704842202,1.494897613,1.073719014,0.82446336,1.125529098,1.28555661,0.887142473,0.875277267,0.433302292],\"yaxis\":\"y\",\"type\":\"scattergl\"},{\"hovertemplate\":\"format=SoundExchange Distributions<br>year=%{x}<br>value_actual=%{y}<extra></extra>\",\"legendgroup\":\"SoundExchange Distributions\",\"line\":{\"color\":\"#636efa\",\"dash\":\"solid\"},\"marker\":{\"symbol\":\"circle\"},\"mode\":\"lines\",\"name\":\"SoundExchange Distributions\",\"showlegend\":true,\"x\":[1973,1974,1975,1976,1977,1978,1979,1980,1981,1982,1983,1984,1985,1986,1987,1988,1989,1990,1991,1992,1993,1994,1995,1996,1997,1998,1999,2000,2001,2002,2003,2004,2005,2006,2007,2008,2009,2010,2011,2012,2013,2014,2015,2016,2017,2018,2019],\"xaxis\":\"x\",\"y\":[781.2912371141006,781.2912371141006,781.2912371141006,781.2912371141006,781.2912371141006,781.2912371141006,781.2912371141006,781.2912371141006,781.2912371141006,781.2912371141006,781.2912371141006,781.2912371141006,781.2912371141006,781.2912371141006,781.2912371141006,781.2912371141006,781.2912371141006,781.2912371141006,781.2912371141006,781.2912371141006,781.2912371141006,781.2912371141006,781.2912371141006,781.2912371141006,781.2912371141006,781.2912371141006,781.2912371141006,781.2912371141006,781.2912371141006,781.2912371141006,781.2912371141006,9.338450503,26.704571429,41.594988095,44.644396527,118.74288793,185.304462633,292.171389001,331.875948591,514.445211983,647.930273827,835.213587287,865.719793095,941.535964784,680.027594648,970.064512738,908.2],\"yaxis\":\"y\",\"type\":\"scattergl\"},{\"hovertemplate\":\"format=Synchronization<br>year=%{x}<br>value_actual=%{y}<extra></extra>\",\"legendgroup\":\"Synchronization\",\"line\":{\"color\":\"#EF553B\",\"dash\":\"solid\"},\"marker\":{\"symbol\":\"circle\"},\"mode\":\"lines\",\"name\":\"Synchronization\",\"showlegend\":true,\"x\":[1973,1974,1975,1976,1977,1978,1979,1980,1981,1982,1983,1984,1985,1986,1987,1988,1989,1990,1991,1992,1993,1994,1995,1996,1997,1998,1999,2000,2001,2002,2003,2004,2005,2006,2007,2008,2009,2010,2011,2012,2013,2014,2015,2016,2017,2018,2019],\"xaxis\":\"x\",\"y\":[781.2912371141006,781.2912371141006,781.2912371141006,781.2912371141006,781.2912371141006,781.2912371141006,781.2912371141006,781.2912371141006,781.2912371141006,781.2912371141006,781.2912371141006,781.2912371141006,781.2912371141006,781.2912371141006,781.2912371141006,781.2912371141006,781.2912371141006,781.2912371141006,781.2912371141006,781.2912371141006,781.2912371141006,781.2912371141006,781.2912371141006,781.2912371141006,781.2912371141006,781.2912371141006,781.2912371141006,781.2912371141006,781.2912371141006,781.2912371141006,781.2912371141006,781.2912371141006,781.2912371141006,781.2912371141006,781.2912371141006,781.2912371141006,239.763716282,221.238928991,223.334328418,212.233985813,208.162343515,204.875818427,218.894529344,228.847859543,242.063251407,290.686928901,276.262360199],\"yaxis\":\"y\",\"type\":\"scattergl\"},{\"hovertemplate\":\"format=Vinyl Single<br>year=%{x}<br>value_actual=%{y}<extra></extra>\",\"legendgroup\":\"Vinyl Single\",\"line\":{\"color\":\"#00cc96\",\"dash\":\"solid\"},\"marker\":{\"symbol\":\"circle\"},\"mode\":\"lines\",\"name\":\"Vinyl Single\",\"showlegend\":true,\"x\":[1973,1974,1975,1976,1977,1978,1979,1980,1981,1982,1983,1984,1985,1986,1987,1988,1989,1990,1991,1992,1993,1994,1995,1996,1997,1998,1999,2000,2001,2002,2003,2004,2005,2006,2007,2008,2009,2010,2011,2012,2013,2014,2015,2016,2017,2018,2019],\"xaxis\":\"x\",\"y\":[1094.027702703,1006.033630832,1005.045641264,1101.257130053,1034.018658416,1020.667440184,1245.183404959,775.658373786,721.127115512,749.750580311,691.249298193,734.983117421,667.654433086,532.074468066,457.527007923,389.860716822,239.9877,184.652033665,119.944803965,120.995187455,90.585732872,81.423821862,78.341088583,77.397753346,56.706474766,40.309109816,42.814107443,39.046336237,45.328231508,35.385543635,29.872964674,26.93263261,17.279428571,12.554584821,4.933082489,3.44354375,2.979171425,2.696605918,5.228182752,5.281477044,3.269213385,5.938887283,6.205390253,5.198931395,6.33967756,5.386196747,6.795945687],\"yaxis\":\"y\",\"type\":\"scattergl\"}],                        {\"template\":{\"data\":{\"bar\":[{\"error_x\":{\"color\":\"#2a3f5f\"},\"error_y\":{\"color\":\"#2a3f5f\"},\"marker\":{\"line\":{\"color\":\"#E5ECF6\",\"width\":0.5},\"pattern\":{\"fillmode\":\"overlay\",\"size\":10,\"solidity\":0.2}},\"type\":\"bar\"}],\"barpolar\":[{\"marker\":{\"line\":{\"color\":\"#E5ECF6\",\"width\":0.5},\"pattern\":{\"fillmode\":\"overlay\",\"size\":10,\"solidity\":0.2}},\"type\":\"barpolar\"}],\"carpet\":[{\"aaxis\":{\"endlinecolor\":\"#2a3f5f\",\"gridcolor\":\"white\",\"linecolor\":\"white\",\"minorgridcolor\":\"white\",\"startlinecolor\":\"#2a3f5f\"},\"baxis\":{\"endlinecolor\":\"#2a3f5f\",\"gridcolor\":\"white\",\"linecolor\":\"white\",\"minorgridcolor\":\"white\",\"startlinecolor\":\"#2a3f5f\"},\"type\":\"carpet\"}],\"choropleth\":[{\"colorbar\":{\"outlinewidth\":0,\"ticks\":\"\"},\"type\":\"choropleth\"}],\"contour\":[{\"colorbar\":{\"outlinewidth\":0,\"ticks\":\"\"},\"colorscale\":[[0.0,\"#0d0887\"],[0.1111111111111111,\"#46039f\"],[0.2222222222222222,\"#7201a8\"],[0.3333333333333333,\"#9c179e\"],[0.4444444444444444,\"#bd3786\"],[0.5555555555555556,\"#d8576b\"],[0.6666666666666666,\"#ed7953\"],[0.7777777777777778,\"#fb9f3a\"],[0.8888888888888888,\"#fdca26\"],[1.0,\"#f0f921\"]],\"type\":\"contour\"}],\"contourcarpet\":[{\"colorbar\":{\"outlinewidth\":0,\"ticks\":\"\"},\"type\":\"contourcarpet\"}],\"heatmap\":[{\"colorbar\":{\"outlinewidth\":0,\"ticks\":\"\"},\"colorscale\":[[0.0,\"#0d0887\"],[0.1111111111111111,\"#46039f\"],[0.2222222222222222,\"#7201a8\"],[0.3333333333333333,\"#9c179e\"],[0.4444444444444444,\"#bd3786\"],[0.5555555555555556,\"#d8576b\"],[0.6666666666666666,\"#ed7953\"],[0.7777777777777778,\"#fb9f3a\"],[0.8888888888888888,\"#fdca26\"],[1.0,\"#f0f921\"]],\"type\":\"heatmap\"}],\"heatmapgl\":[{\"colorbar\":{\"outlinewidth\":0,\"ticks\":\"\"},\"colorscale\":[[0.0,\"#0d0887\"],[0.1111111111111111,\"#46039f\"],[0.2222222222222222,\"#7201a8\"],[0.3333333333333333,\"#9c179e\"],[0.4444444444444444,\"#bd3786\"],[0.5555555555555556,\"#d8576b\"],[0.6666666666666666,\"#ed7953\"],[0.7777777777777778,\"#fb9f3a\"],[0.8888888888888888,\"#fdca26\"],[1.0,\"#f0f921\"]],\"type\":\"heatmapgl\"}],\"histogram\":[{\"marker\":{\"pattern\":{\"fillmode\":\"overlay\",\"size\":10,\"solidity\":0.2}},\"type\":\"histogram\"}],\"histogram2d\":[{\"colorbar\":{\"outlinewidth\":0,\"ticks\":\"\"},\"colorscale\":[[0.0,\"#0d0887\"],[0.1111111111111111,\"#46039f\"],[0.2222222222222222,\"#7201a8\"],[0.3333333333333333,\"#9c179e\"],[0.4444444444444444,\"#bd3786\"],[0.5555555555555556,\"#d8576b\"],[0.6666666666666666,\"#ed7953\"],[0.7777777777777778,\"#fb9f3a\"],[0.8888888888888888,\"#fdca26\"],[1.0,\"#f0f921\"]],\"type\":\"histogram2d\"}],\"histogram2dcontour\":[{\"colorbar\":{\"outlinewidth\":0,\"ticks\":\"\"},\"colorscale\":[[0.0,\"#0d0887\"],[0.1111111111111111,\"#46039f\"],[0.2222222222222222,\"#7201a8\"],[0.3333333333333333,\"#9c179e\"],[0.4444444444444444,\"#bd3786\"],[0.5555555555555556,\"#d8576b\"],[0.6666666666666666,\"#ed7953\"],[0.7777777777777778,\"#fb9f3a\"],[0.8888888888888888,\"#fdca26\"],[1.0,\"#f0f921\"]],\"type\":\"histogram2dcontour\"}],\"mesh3d\":[{\"colorbar\":{\"outlinewidth\":0,\"ticks\":\"\"},\"type\":\"mesh3d\"}],\"parcoords\":[{\"line\":{\"colorbar\":{\"outlinewidth\":0,\"ticks\":\"\"}},\"type\":\"parcoords\"}],\"pie\":[{\"automargin\":true,\"type\":\"pie\"}],\"scatter\":[{\"marker\":{\"colorbar\":{\"outlinewidth\":0,\"ticks\":\"\"}},\"type\":\"scatter\"}],\"scatter3d\":[{\"line\":{\"colorbar\":{\"outlinewidth\":0,\"ticks\":\"\"}},\"marker\":{\"colorbar\":{\"outlinewidth\":0,\"ticks\":\"\"}},\"type\":\"scatter3d\"}],\"scattercarpet\":[{\"marker\":{\"colorbar\":{\"outlinewidth\":0,\"ticks\":\"\"}},\"type\":\"scattercarpet\"}],\"scattergeo\":[{\"marker\":{\"colorbar\":{\"outlinewidth\":0,\"ticks\":\"\"}},\"type\":\"scattergeo\"}],\"scattergl\":[{\"marker\":{\"colorbar\":{\"outlinewidth\":0,\"ticks\":\"\"}},\"type\":\"scattergl\"}],\"scattermapbox\":[{\"marker\":{\"colorbar\":{\"outlinewidth\":0,\"ticks\":\"\"}},\"type\":\"scattermapbox\"}],\"scatterpolar\":[{\"marker\":{\"colorbar\":{\"outlinewidth\":0,\"ticks\":\"\"}},\"type\":\"scatterpolar\"}],\"scatterpolargl\":[{\"marker\":{\"colorbar\":{\"outlinewidth\":0,\"ticks\":\"\"}},\"type\":\"scatterpolargl\"}],\"scatterternary\":[{\"marker\":{\"colorbar\":{\"outlinewidth\":0,\"ticks\":\"\"}},\"type\":\"scatterternary\"}],\"surface\":[{\"colorbar\":{\"outlinewidth\":0,\"ticks\":\"\"},\"colorscale\":[[0.0,\"#0d0887\"],[0.1111111111111111,\"#46039f\"],[0.2222222222222222,\"#7201a8\"],[0.3333333333333333,\"#9c179e\"],[0.4444444444444444,\"#bd3786\"],[0.5555555555555556,\"#d8576b\"],[0.6666666666666666,\"#ed7953\"],[0.7777777777777778,\"#fb9f3a\"],[0.8888888888888888,\"#fdca26\"],[1.0,\"#f0f921\"]],\"type\":\"surface\"}],\"table\":[{\"cells\":{\"fill\":{\"color\":\"#EBF0F8\"},\"line\":{\"color\":\"white\"}},\"header\":{\"fill\":{\"color\":\"#C8D4E3\"},\"line\":{\"color\":\"white\"}},\"type\":\"table\"}]},\"layout\":{\"annotationdefaults\":{\"arrowcolor\":\"#2a3f5f\",\"arrowhead\":0,\"arrowwidth\":1},\"autotypenumbers\":\"strict\",\"coloraxis\":{\"colorbar\":{\"outlinewidth\":0,\"ticks\":\"\"}},\"colorscale\":{\"diverging\":[[0,\"#8e0152\"],[0.1,\"#c51b7d\"],[0.2,\"#de77ae\"],[0.3,\"#f1b6da\"],[0.4,\"#fde0ef\"],[0.5,\"#f7f7f7\"],[0.6,\"#e6f5d0\"],[0.7,\"#b8e186\"],[0.8,\"#7fbc41\"],[0.9,\"#4d9221\"],[1,\"#276419\"]],\"sequential\":[[0.0,\"#0d0887\"],[0.1111111111111111,\"#46039f\"],[0.2222222222222222,\"#7201a8\"],[0.3333333333333333,\"#9c179e\"],[0.4444444444444444,\"#bd3786\"],[0.5555555555555556,\"#d8576b\"],[0.6666666666666666,\"#ed7953\"],[0.7777777777777778,\"#fb9f3a\"],[0.8888888888888888,\"#fdca26\"],[1.0,\"#f0f921\"]],\"sequentialminus\":[[0.0,\"#0d0887\"],[0.1111111111111111,\"#46039f\"],[0.2222222222222222,\"#7201a8\"],[0.3333333333333333,\"#9c179e\"],[0.4444444444444444,\"#bd3786\"],[0.5555555555555556,\"#d8576b\"],[0.6666666666666666,\"#ed7953\"],[0.7777777777777778,\"#fb9f3a\"],[0.8888888888888888,\"#fdca26\"],[1.0,\"#f0f921\"]]},\"colorway\":[\"#636efa\",\"#EF553B\",\"#00cc96\",\"#ab63fa\",\"#FFA15A\",\"#19d3f3\",\"#FF6692\",\"#B6E880\",\"#FF97FF\",\"#FECB52\"],\"font\":{\"color\":\"#2a3f5f\"},\"geo\":{\"bgcolor\":\"white\",\"lakecolor\":\"white\",\"landcolor\":\"#E5ECF6\",\"showlakes\":true,\"showland\":true,\"subunitcolor\":\"white\"},\"hoverlabel\":{\"align\":\"left\"},\"hovermode\":\"closest\",\"mapbox\":{\"style\":\"light\"},\"paper_bgcolor\":\"white\",\"plot_bgcolor\":\"#E5ECF6\",\"polar\":{\"angularaxis\":{\"gridcolor\":\"white\",\"linecolor\":\"white\",\"ticks\":\"\"},\"bgcolor\":\"#E5ECF6\",\"radialaxis\":{\"gridcolor\":\"white\",\"linecolor\":\"white\",\"ticks\":\"\"}},\"scene\":{\"xaxis\":{\"backgroundcolor\":\"#E5ECF6\",\"gridcolor\":\"white\",\"gridwidth\":2,\"linecolor\":\"white\",\"showbackground\":true,\"ticks\":\"\",\"zerolinecolor\":\"white\"},\"yaxis\":{\"backgroundcolor\":\"#E5ECF6\",\"gridcolor\":\"white\",\"gridwidth\":2,\"linecolor\":\"white\",\"showbackground\":true,\"ticks\":\"\",\"zerolinecolor\":\"white\"},\"zaxis\":{\"backgroundcolor\":\"#E5ECF6\",\"gridcolor\":\"white\",\"gridwidth\":2,\"linecolor\":\"white\",\"showbackground\":true,\"ticks\":\"\",\"zerolinecolor\":\"white\"}},\"shapedefaults\":{\"line\":{\"color\":\"#2a3f5f\"}},\"ternary\":{\"aaxis\":{\"gridcolor\":\"white\",\"linecolor\":\"white\",\"ticks\":\"\"},\"baxis\":{\"gridcolor\":\"white\",\"linecolor\":\"white\",\"ticks\":\"\"},\"bgcolor\":\"#E5ECF6\",\"caxis\":{\"gridcolor\":\"white\",\"linecolor\":\"white\",\"ticks\":\"\"}},\"title\":{\"x\":0.05},\"xaxis\":{\"automargin\":true,\"gridcolor\":\"white\",\"linecolor\":\"white\",\"ticks\":\"\",\"title\":{\"standoff\":15},\"zerolinecolor\":\"white\",\"zerolinewidth\":2},\"yaxis\":{\"automargin\":true,\"gridcolor\":\"white\",\"linecolor\":\"white\",\"ticks\":\"\",\"title\":{\"standoff\":15},\"zerolinecolor\":\"white\",\"zerolinewidth\":2}}},\"xaxis\":{\"anchor\":\"y\",\"domain\":[0.0,1.0],\"title\":{\"text\":\"year\"}},\"yaxis\":{\"anchor\":\"x\",\"domain\":[0.0,1.0],\"title\":{\"text\":\"value_actual\"}},\"legend\":{\"title\":{\"text\":\"format\"},\"tracegroupgap\":0},\"margin\":{\"t\":60}},                        {\"responsive\": true}                    ).then(function(){\n",
              "                            \n",
              "var gd = document.getElementById('a9313907-7c23-4497-8f29-36d039c4ab80');\n",
              "var x = new MutationObserver(function (mutations, observer) {{\n",
              "        var display = window.getComputedStyle(gd).display;\n",
              "        if (!display || display === 'none') {{\n",
              "            console.log([gd, 'removed!']);\n",
              "            Plotly.purge(gd);\n",
              "            observer.disconnect();\n",
              "        }}\n",
              "}});\n",
              "\n",
              "// Listen for the removal of the full notebook cells\n",
              "var notebookContainer = gd.closest('#notebook-container');\n",
              "if (notebookContainer) {{\n",
              "    x.observe(notebookContainer, {childList: true});\n",
              "}}\n",
              "\n",
              "// Listen for the clearing of the current output cell\n",
              "var outputEl = gd.closest('.output');\n",
              "if (outputEl) {{\n",
              "    x.observe(outputEl, {childList: true});\n",
              "}}\n",
              "\n",
              "                        })                };                            </script>        </div>\n",
              "</body>\n",
              "</html>"
            ]
          },
          "metadata": {}
        }
      ]
    },
    {
      "cell_type": "markdown",
      "source": [
        "Yayyy!!! I am pretty close! Next, I will work on annotating all the lines of the graph"
      ],
      "metadata": {
        "id": "CATT8ZsuxUL_"
      }
    },
    {
      "cell_type": "markdown",
      "source": [
        "I don't know why but vizualization is not appearing on github page!!!"
      ],
      "metadata": {
        "id": "Rw2THy48wcOl"
      }
    },
    {
      "cell_type": "markdown",
      "source": [
        "##(c) A link to the original has been provided"
      ],
      "metadata": {
        "id": "_K5d6DI10pvi"
      }
    },
    {
      "cell_type": "markdown",
      "source": [
        "The graphical visualization of Music Industry Sales (1973 - 2018).\n",
        "![Music Industry Sales (1973 - 2018)](https://images.squarespace-cdn.com/content/v1/55b6a6dce4b089e11621d3ed/1586289545447-DCMM9Z2PIOV6JZYLKKXV/Line+graph+example.png?format=750w)\n",
        "\n",
        "Gathered from [here](https://www.storytellingwithdata.com/blog/2020/4/9/what-is-an-area-graph) on 4/24/2022."
      ],
      "metadata": {
        "id": "ALUrXtxi0tkY"
      }
    },
    {
      "cell_type": "markdown",
      "source": [
        "#References"
      ],
      "metadata": {
        "id": "8Awd-D8Ftyxu"
      }
    },
    {
      "cell_type": "markdown",
      "source": [
        "https://github.com/almsalahuddin/Data-Processing-and-Visualization/blob/main/Exam_2.ipynb\n",
        "\n",
        "https://github.com/almsalahuddin/Data-Processing-and-Visualization/blob/main/Exam_3.ipynb\n",
        "\n",
        "https://stackoverflow.com/questions/67556632/create-line-graph-from-dataframe-with-row-values-as-the-value"
      ],
      "metadata": {
        "id": "sB4Z9TBAt1Ek"
      }
    }
  ]
}