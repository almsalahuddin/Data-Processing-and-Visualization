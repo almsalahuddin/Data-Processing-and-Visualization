{
  "nbformat": 4,
  "nbformat_minor": 0,
  "metadata": {
    "colab": {
      "name": "Project Recreating Masters Initial Visualization .ipynb",
      "provenance": [],
      "authorship_tag": "ABX9TyOjeObaZuq5XWGBEQxLGrnF",
      "include_colab_link": true
    },
    "kernelspec": {
      "name": "python3",
      "display_name": "Python 3"
    },
    "language_info": {
      "name": "python"
    }
  },
  "cells": [
    {
      "cell_type": "markdown",
      "metadata": {
        "id": "view-in-github",
        "colab_type": "text"
      },
      "source": [
        "<a href=\"https://colab.research.google.com/github/almsalahuddin/Data-Processing-and-Visualization/blob/main/Project_Recreating_Masters_Initial_Visualization_.ipynb\" target=\"_parent\"><img src=\"https://colab.research.google.com/assets/colab-badge.svg\" alt=\"Open In Colab\"/></a>"
      ]
    },
    {
      "cell_type": "markdown",
      "source": [
        "# Project Recreate Masters # : CPSMA 4313 Spring 2022 [Dr. Jacob's](https://github.com/nurfnick) Data processing visualization\n",
        "\n",
        "## Project Recreating Masters Initial Visualization\n",
        " \n",
        "\n",
        "### A L M SALAHUDDIN"
      ],
      "metadata": {
        "id": "2Dq-RY467PTO"
      }
    },
    {
      "cell_type": "markdown",
      "source": [
        "#1. Project Proposal:"
      ],
      "metadata": {
        "id": "NzmvE1qt-yY5"
      }
    },
    {
      "cell_type": "markdown",
      "source": [
        "I always wanted to learn how to create an area graph like the stock market, which shows the prices up and down over time. So, I will be trying to recreate an area graph for this project."
      ],
      "metadata": {
        "id": "G2kFtJ7gJIjm"
      }
    },
    {
      "cell_type": "markdown",
      "source": [
        "##(a)Visualization (link and image included)"
      ],
      "metadata": {
        "id": "kzfOEq8o-s0h"
      }
    },
    {
      "cell_type": "markdown",
      "source": [
        "The graphical visualization of Music Industry Sales (1973 - 2018).\n",
        "![Music Industry Sales (1973 - 2018)](https://images.squarespace-cdn.com/content/v1/55b6a6dce4b089e11621d3ed/1586289545447-DCMM9Z2PIOV6JZYLKKXV/Line+graph+example.png?format=750w)\n",
        "\n",
        "Gathered from [here](https://www.storytellingwithdata.com/blog/2020/4/9/what-is-an-area-graph) on 4/24/2022."
      ],
      "metadata": {
        "id": "wyBTSKa29M6F"
      }
    },
    {
      "cell_type": "markdown",
      "source": [
        "##(b) Dataset (link included)"
      ],
      "metadata": {
        "id": "lx5nhmSk-7S9"
      }
    },
    {
      "cell_type": "markdown",
      "source": [
        "Over the last two decades, the music industry faced many disruptions due to new forms of media. From the old vinyl disks all the way to free and paid music streaming as we have right now, with noticeable changes caused by Napster, iTunes Store and Spotify, to name a few. All of those changes impacted the consumer and the profitability of the music industry as a whole. With this dataset, we can explore how music sales varied as disruptions occurred within the industry."
      ],
      "metadata": {
        "id": "RakQqntWFR0G"
      }
    },
    {
      "cell_type": "markdown",
      "source": [
        "The dataset can be found [here](https://www.kaggle.com/datasets/andrewmvd/music-sales)"
      ],
      "metadata": {
        "id": "hb2PpOKc_ENh"
      }
    },
    {
      "cell_type": "markdown",
      "source": [
        "##(c) Visualization Excellence\n"
      ],
      "metadata": {
        "id": "5s1XwEn1_Lxr"
      }
    },
    {
      "cell_type": "markdown",
      "source": [
        "Area graphs are effective for Showing the rise and fall of various data series over time, and the above Visualization shows the rise and fall of different types of music sales formats in the US from 1973 to 2018. So, It is a perfect data visualization for the dataset. It is showing several series across several different time periods, and there is significant variation among series, which is changing over time. The graph is highlighted in different colors. Each highlighted bar represents a format of US music sales."
      ],
      "metadata": {
        "id": "8j-1vyPH_6sP"
      }
    },
    {
      "cell_type": "markdown",
      "source": [
        "##(d) Visualization Descriptions"
      ],
      "metadata": {
        "id": "yM0Q3j4P_USH"
      }
    },
    {
      "cell_type": "markdown",
      "source": [
        "The Visualization I have above is an area graph which shows the rise and fall of different formats of music sales in the US from the year starting 1973 till 2019. At the beginning of 1973, VINYL was the most popular format but over time, it lost its popularity, and a new popular format became the compact disk which was famous for the most prolonged period of time from 1983 to 2012."
      ],
      "metadata": {
        "id": "oPX9vXUEBJ6W"
      }
    },
    {
      "cell_type": "markdown",
      "source": [
        "##(e) Hardships\n"
      ],
      "metadata": {
        "id": "cR5naHJh_a5R"
      }
    },
    {
      "cell_type": "markdown",
      "source": [
        "Because my data series will occupy the same space in my graph, they might inevitably overlap. The BEST case scenario is that the data series I have found never cross over one another so that the chart looks like a mountain range where all peaks are visible. Also, giving name of each line of the graph might be difficult as well because I have never done that."
      ],
      "metadata": {
        "id": "XS_l6UjqBKwG"
      }
    },
    {
      "cell_type": "markdown",
      "source": [
        "\n",
        "#3. Initial Visualization:"
      ],
      "metadata": {
        "id": "r7w-1o3r0SKx"
      }
    },
    {
      "cell_type": "markdown",
      "source": [
        "##(a) Data is loaded"
      ],
      "metadata": {
        "id": "mf9i1Q3O0e9q"
      }
    },
    {
      "cell_type": "code",
      "source": [
        "import pandas as pd\n",
        "import matplotlib.pyplot as plt\n",
        "import seaborn as sns\n",
        "import numpy as np\n",
        "df = pd.read_csv('https://raw.githubusercontent.com/almsalahuddin/Data-Processing-and-Visualization/main/3467260/musicdata.csv')\n",
        "df.head()"
      ],
      "metadata": {
        "id": "uWFTvKHKivNk",
        "outputId": "9c85da7e-76e0-41db-f8c6-c456c881073b",
        "colab": {
          "base_uri": "https://localhost:8080/",
          "height": 204
        }
      },
      "execution_count": null,
      "outputs": [
        {
          "output_type": "execute_result",
          "data": {
            "text/plain": [
              "  format metric  year  number_of_records  value_actual\n",
              "0     CD  Units  1973                  1           NaN\n",
              "1     CD  Units  1974                  1           NaN\n",
              "2     CD  Units  1975                  1           NaN\n",
              "3     CD  Units  1976                  1           NaN\n",
              "4     CD  Units  1977                  1           NaN"
            ],
            "text/html": [
              "\n",
              "  <div id=\"df-47f2c787-2579-4841-904b-6b0cfe373e3e\">\n",
              "    <div class=\"colab-df-container\">\n",
              "      <div>\n",
              "<style scoped>\n",
              "    .dataframe tbody tr th:only-of-type {\n",
              "        vertical-align: middle;\n",
              "    }\n",
              "\n",
              "    .dataframe tbody tr th {\n",
              "        vertical-align: top;\n",
              "    }\n",
              "\n",
              "    .dataframe thead th {\n",
              "        text-align: right;\n",
              "    }\n",
              "</style>\n",
              "<table border=\"1\" class=\"dataframe\">\n",
              "  <thead>\n",
              "    <tr style=\"text-align: right;\">\n",
              "      <th></th>\n",
              "      <th>format</th>\n",
              "      <th>metric</th>\n",
              "      <th>year</th>\n",
              "      <th>number_of_records</th>\n",
              "      <th>value_actual</th>\n",
              "    </tr>\n",
              "  </thead>\n",
              "  <tbody>\n",
              "    <tr>\n",
              "      <th>0</th>\n",
              "      <td>CD</td>\n",
              "      <td>Units</td>\n",
              "      <td>1973</td>\n",
              "      <td>1</td>\n",
              "      <td>NaN</td>\n",
              "    </tr>\n",
              "    <tr>\n",
              "      <th>1</th>\n",
              "      <td>CD</td>\n",
              "      <td>Units</td>\n",
              "      <td>1974</td>\n",
              "      <td>1</td>\n",
              "      <td>NaN</td>\n",
              "    </tr>\n",
              "    <tr>\n",
              "      <th>2</th>\n",
              "      <td>CD</td>\n",
              "      <td>Units</td>\n",
              "      <td>1975</td>\n",
              "      <td>1</td>\n",
              "      <td>NaN</td>\n",
              "    </tr>\n",
              "    <tr>\n",
              "      <th>3</th>\n",
              "      <td>CD</td>\n",
              "      <td>Units</td>\n",
              "      <td>1976</td>\n",
              "      <td>1</td>\n",
              "      <td>NaN</td>\n",
              "    </tr>\n",
              "    <tr>\n",
              "      <th>4</th>\n",
              "      <td>CD</td>\n",
              "      <td>Units</td>\n",
              "      <td>1977</td>\n",
              "      <td>1</td>\n",
              "      <td>NaN</td>\n",
              "    </tr>\n",
              "  </tbody>\n",
              "</table>\n",
              "</div>\n",
              "      <button class=\"colab-df-convert\" onclick=\"convertToInteractive('df-47f2c787-2579-4841-904b-6b0cfe373e3e')\"\n",
              "              title=\"Convert this dataframe to an interactive table.\"\n",
              "              style=\"display:none;\">\n",
              "        \n",
              "  <svg xmlns=\"http://www.w3.org/2000/svg\" height=\"24px\"viewBox=\"0 0 24 24\"\n",
              "       width=\"24px\">\n",
              "    <path d=\"M0 0h24v24H0V0z\" fill=\"none\"/>\n",
              "    <path d=\"M18.56 5.44l.94 2.06.94-2.06 2.06-.94-2.06-.94-.94-2.06-.94 2.06-2.06.94zm-11 1L8.5 8.5l.94-2.06 2.06-.94-2.06-.94L8.5 2.5l-.94 2.06-2.06.94zm10 10l.94 2.06.94-2.06 2.06-.94-2.06-.94-.94-2.06-.94 2.06-2.06.94z\"/><path d=\"M17.41 7.96l-1.37-1.37c-.4-.4-.92-.59-1.43-.59-.52 0-1.04.2-1.43.59L10.3 9.45l-7.72 7.72c-.78.78-.78 2.05 0 2.83L4 21.41c.39.39.9.59 1.41.59.51 0 1.02-.2 1.41-.59l7.78-7.78 2.81-2.81c.8-.78.8-2.07 0-2.86zM5.41 20L4 18.59l7.72-7.72 1.47 1.35L5.41 20z\"/>\n",
              "  </svg>\n",
              "      </button>\n",
              "      \n",
              "  <style>\n",
              "    .colab-df-container {\n",
              "      display:flex;\n",
              "      flex-wrap:wrap;\n",
              "      gap: 12px;\n",
              "    }\n",
              "\n",
              "    .colab-df-convert {\n",
              "      background-color: #E8F0FE;\n",
              "      border: none;\n",
              "      border-radius: 50%;\n",
              "      cursor: pointer;\n",
              "      display: none;\n",
              "      fill: #1967D2;\n",
              "      height: 32px;\n",
              "      padding: 0 0 0 0;\n",
              "      width: 32px;\n",
              "    }\n",
              "\n",
              "    .colab-df-convert:hover {\n",
              "      background-color: #E2EBFA;\n",
              "      box-shadow: 0px 1px 2px rgba(60, 64, 67, 0.3), 0px 1px 3px 1px rgba(60, 64, 67, 0.15);\n",
              "      fill: #174EA6;\n",
              "    }\n",
              "\n",
              "    [theme=dark] .colab-df-convert {\n",
              "      background-color: #3B4455;\n",
              "      fill: #D2E3FC;\n",
              "    }\n",
              "\n",
              "    [theme=dark] .colab-df-convert:hover {\n",
              "      background-color: #434B5C;\n",
              "      box-shadow: 0px 1px 3px 1px rgba(0, 0, 0, 0.15);\n",
              "      filter: drop-shadow(0px 1px 2px rgba(0, 0, 0, 0.3));\n",
              "      fill: #FFFFFF;\n",
              "    }\n",
              "  </style>\n",
              "\n",
              "      <script>\n",
              "        const buttonEl =\n",
              "          document.querySelector('#df-47f2c787-2579-4841-904b-6b0cfe373e3e button.colab-df-convert');\n",
              "        buttonEl.style.display =\n",
              "          google.colab.kernel.accessAllowed ? 'block' : 'none';\n",
              "\n",
              "        async function convertToInteractive(key) {\n",
              "          const element = document.querySelector('#df-47f2c787-2579-4841-904b-6b0cfe373e3e');\n",
              "          const dataTable =\n",
              "            await google.colab.kernel.invokeFunction('convertToInteractive',\n",
              "                                                     [key], {});\n",
              "          if (!dataTable) return;\n",
              "\n",
              "          const docLinkHtml = 'Like what you see? Visit the ' +\n",
              "            '<a target=\"_blank\" href=https://colab.research.google.com/notebooks/data_table.ipynb>data table notebook</a>'\n",
              "            + ' to learn more about interactive tables.';\n",
              "          element.innerHTML = '';\n",
              "          dataTable['output_type'] = 'display_data';\n",
              "          await google.colab.output.renderOutput(dataTable, element);\n",
              "          const docLink = document.createElement('div');\n",
              "          docLink.innerHTML = docLinkHtml;\n",
              "          element.appendChild(docLink);\n",
              "        }\n",
              "      </script>\n",
              "    </div>\n",
              "  </div>\n",
              "  "
            ]
          },
          "metadata": {},
          "execution_count": 69
        }
      ]
    },
    {
      "cell_type": "markdown",
      "source": [
        "##(b) A visualization has been created"
      ],
      "metadata": {
        "id": "2fI6hcHH0kTX"
      }
    },
    {
      "cell_type": "markdown",
      "source": [
        "# line plot for math marks\n",
        "df.plot(kind = 'line',\n",
        "        x = 'name',\n",
        "        y = 'math_marks',\n",
        "        color = 'green',ax = ax)\n",
        "  \n",
        "# line plot for physics marks\n",
        "df.plot(kind = 'line',x = 'name',\n",
        "        y = 'physics_marks',\n",
        "        color = 'blue',ax = ax)\n",
        "  \n",
        "# line plot for chemistry marks\n",
        "df.plot(kind = 'line',x = 'name',\n",
        "        y = 'chem_marks',\n",
        "        color = 'black',ax = ax)\n",
        "  \n",
        "# set the title\n",
        "plt.title('LinePlots')\n",
        "  \n",
        "# show the plot\n",
        "plt.show()"
      ],
      "metadata": {
        "id": "sp2g_rMHzLMd"
      }
    },
    {
      "cell_type": "code",
      "source": [
        "\n",
        "\n",
        "  \n",
        "# line plot for math marks\n",
        "df.plot(kind = 'line',\n",
        "        x = 'year',\n",
        "        y = 'value_actual')\n",
        "  \n",
        "\n",
        "  \n",
        "# set the title\n",
        "plt.title('LinePlots')\n",
        "  \n",
        "# show the plot\n",
        "plt.show()"
      ],
      "metadata": {
        "id": "h-235ic-qXTB",
        "outputId": "d125e4c2-ecaf-4e9e-f65d-213d29cbd5c3",
        "colab": {
          "base_uri": "https://localhost:8080/",
          "height": 291
        }
      },
      "execution_count": null,
      "outputs": [
        {
          "output_type": "display_data",
          "data": {
            "text/plain": [
              "<Figure size 432x288 with 1 Axes>"
            ],
            "image/png": "[encoded data removed]"
          },
          "metadata": {}
        }
      ]
    },
    {
      "cell_type": "code",
      "source": [
        "typebyformat = pd.DataFrame(np.nan, index = format ,columns = type)\n",
        "typebyformat.head()"
      ],
      "metadata": {
        "id": "nflE91zBwVuO",
        "outputId": "3a8e891e-23c6-4586-8d42-1512d6f539c1",
        "colab": {
          "base_uri": "https://localhost:8080/",
          "height": 331
        }
      },
      "execution_count": null,
      "outputs": [
        {
          "output_type": "execute_result",
          "data": {
            "text/plain": [
              "       cd  cdsingle  cassette  cassettesingle  lp/ep  vinylsingle  8-track  \\\n",
              "19731 NaN       NaN       NaN             NaN    NaN          NaN      NaN   \n",
              "19732 NaN       NaN       NaN             NaN    NaN          NaN      NaN   \n",
              "19733 NaN       NaN       NaN             NaN    NaN          NaN      NaN   \n",
              "19734 NaN       NaN       NaN             NaN    NaN          NaN      NaN   \n",
              "19735 NaN       NaN       NaN             NaN    NaN          NaN      NaN   \n",
              "\n",
              "       othertapes  musicvideo(physical)  dvdaudio  ...  downloadmusicvideo  \\\n",
              "19731         NaN                   NaN       NaN  ...                 NaN   \n",
              "19732         NaN                   NaN       NaN  ...                 NaN   \n",
              "19733         NaN                   NaN       NaN  ...                 NaN   \n",
              "19734         NaN                   NaN       NaN  ...                 NaN   \n",
              "19735         NaN                   NaN       NaN  ...                 NaN   \n",
              "\n",
              "       ringtones&ringbacks  paidsubscriptions  limitedtierpaidsubscription  \\\n",
              "19731                  NaN                NaN                          NaN   \n",
              "19732                  NaN                NaN                          NaN   \n",
              "19733                  NaN                NaN                          NaN   \n",
              "19734                  NaN                NaN                          NaN   \n",
              "19735                  NaN                NaN                          NaN   \n",
              "\n",
              "       on-demandstreaming(ad-supported)  otherad-supportedstreaming  \\\n",
              "19731                               NaN                         NaN   \n",
              "19732                               NaN                         NaN   \n",
              "19733                               NaN                         NaN   \n",
              "19734                               NaN                         NaN   \n",
              "19735                               NaN                         NaN   \n",
              "\n",
              "       otherdigital  paidsubscription  soundexchangedistributions  \\\n",
              "19731           NaN               NaN                         NaN   \n",
              "19732           NaN               NaN                         NaN   \n",
              "19733           NaN               NaN                         NaN   \n",
              "19734           NaN               NaN                         NaN   \n",
              "19735           NaN               NaN                         NaN   \n",
              "\n",
              "       synchronization  \n",
              "19731              NaN  \n",
              "19732              NaN  \n",
              "19733              NaN  \n",
              "19734              NaN  \n",
              "19735              NaN  \n",
              "\n",
              "[5 rows x 24 columns]"
            ],
            "text/html": [
              "\n",
              "  <div id=\"df-3a11f63d-afb7-447a-9d61-9472f1abac13\">\n",
              "    <div class=\"colab-df-container\">\n",
              "      <div>\n",
              "<style scoped>\n",
              "    .dataframe tbody tr th:only-of-type {\n",
              "        vertical-align: middle;\n",
              "    }\n",
              "\n",
              "    .dataframe tbody tr th {\n",
              "        vertical-align: top;\n",
              "    }\n",
              "\n",
              "    .dataframe thead th {\n",
              "        text-align: right;\n",
              "    }\n",
              "</style>\n",
              "<table border=\"1\" class=\"dataframe\">\n",
              "  <thead>\n",
              "    <tr style=\"text-align: right;\">\n",
              "      <th></th>\n",
              "      <th>cd</th>\n",
              "      <th>cdsingle</th>\n",
              "      <th>cassette</th>\n",
              "      <th>cassettesingle</th>\n",
              "      <th>lp/ep</th>\n",
              "      <th>vinylsingle</th>\n",
              "      <th>8-track</th>\n",
              "      <th>othertapes</th>\n",
              "      <th>musicvideo(physical)</th>\n",
              "      <th>dvdaudio</th>\n",
              "      <th>...</th>\n",
              "      <th>downloadmusicvideo</th>\n",
              "      <th>ringtones&amp;ringbacks</th>\n",
              "      <th>paidsubscriptions</th>\n",
              "      <th>limitedtierpaidsubscription</th>\n",
              "      <th>on-demandstreaming(ad-supported)</th>\n",
              "      <th>otherad-supportedstreaming</th>\n",
              "      <th>otherdigital</th>\n",
              "      <th>paidsubscription</th>\n",
              "      <th>soundexchangedistributions</th>\n",
              "      <th>synchronization</th>\n",
              "    </tr>\n",
              "  </thead>\n",
              "  <tbody>\n",
              "    <tr>\n",
              "      <th>19731</th>\n",
              "      <td>NaN</td>\n",
              "      <td>NaN</td>\n",
              "      <td>NaN</td>\n",
              "      <td>NaN</td>\n",
              "      <td>NaN</td>\n",
              "      <td>NaN</td>\n",
              "      <td>NaN</td>\n",
              "      <td>NaN</td>\n",
              "      <td>NaN</td>\n",
              "      <td>NaN</td>\n",
              "      <td>...</td>\n",
              "      <td>NaN</td>\n",
              "      <td>NaN</td>\n",
              "      <td>NaN</td>\n",
              "      <td>NaN</td>\n",
              "      <td>NaN</td>\n",
              "      <td>NaN</td>\n",
              "      <td>NaN</td>\n",
              "      <td>NaN</td>\n",
              "      <td>NaN</td>\n",
              "      <td>NaN</td>\n",
              "    </tr>\n",
              "    <tr>\n",
              "      <th>19732</th>\n",
              "      <td>NaN</td>\n",
              "      <td>NaN</td>\n",
              "      <td>NaN</td>\n",
              "      <td>NaN</td>\n",
              "      <td>NaN</td>\n",
              "      <td>NaN</td>\n",
              "      <td>NaN</td>\n",
              "      <td>NaN</td>\n",
              "      <td>NaN</td>\n",
              "      <td>NaN</td>\n",
              "      <td>...</td>\n",
              "      <td>NaN</td>\n",
              "      <td>NaN</td>\n",
              "      <td>NaN</td>\n",
              "      <td>NaN</td>\n",
              "      <td>NaN</td>\n",
              "      <td>NaN</td>\n",
              "      <td>NaN</td>\n",
              "      <td>NaN</td>\n",
              "      <td>NaN</td>\n",
              "      <td>NaN</td>\n",
              "    </tr>\n",
              "    <tr>\n",
              "      <th>19733</th>\n",
              "      <td>NaN</td>\n",
              "      <td>NaN</td>\n",
              "      <td>NaN</td>\n",
              "      <td>NaN</td>\n",
              "      <td>NaN</td>\n",
              "      <td>NaN</td>\n",
              "      <td>NaN</td>\n",
              "      <td>NaN</td>\n",
              "      <td>NaN</td>\n",
              "      <td>NaN</td>\n",
              "      <td>...</td>\n",
              "      <td>NaN</td>\n",
              "      <td>NaN</td>\n",
              "      <td>NaN</td>\n",
              "      <td>NaN</td>\n",
              "      <td>NaN</td>\n",
              "      <td>NaN</td>\n",
              "      <td>NaN</td>\n",
              "      <td>NaN</td>\n",
              "      <td>NaN</td>\n",
              "      <td>NaN</td>\n",
              "    </tr>\n",
              "    <tr>\n",
              "      <th>19734</th>\n",
              "      <td>NaN</td>\n",
              "      <td>NaN</td>\n",
              "      <td>NaN</td>\n",
              "      <td>NaN</td>\n",
              "      <td>NaN</td>\n",
              "      <td>NaN</td>\n",
              "      <td>NaN</td>\n",
              "      <td>NaN</td>\n",
              "      <td>NaN</td>\n",
              "      <td>NaN</td>\n",
              "      <td>...</td>\n",
              "      <td>NaN</td>\n",
              "      <td>NaN</td>\n",
              "      <td>NaN</td>\n",
              "      <td>NaN</td>\n",
              "      <td>NaN</td>\n",
              "      <td>NaN</td>\n",
              "      <td>NaN</td>\n",
              "      <td>NaN</td>\n",
              "      <td>NaN</td>\n",
              "      <td>NaN</td>\n",
              "    </tr>\n",
              "    <tr>\n",
              "      <th>19735</th>\n",
              "      <td>NaN</td>\n",
              "      <td>NaN</td>\n",
              "      <td>NaN</td>\n",
              "      <td>NaN</td>\n",
              "      <td>NaN</td>\n",
              "      <td>NaN</td>\n",
              "      <td>NaN</td>\n",
              "      <td>NaN</td>\n",
              "      <td>NaN</td>\n",
              "      <td>NaN</td>\n",
              "      <td>...</td>\n",
              "      <td>NaN</td>\n",
              "      <td>NaN</td>\n",
              "      <td>NaN</td>\n",
              "      <td>NaN</td>\n",
              "      <td>NaN</td>\n",
              "      <td>NaN</td>\n",
              "      <td>NaN</td>\n",
              "      <td>NaN</td>\n",
              "      <td>NaN</td>\n",
              "      <td>NaN</td>\n",
              "    </tr>\n",
              "  </tbody>\n",
              "</table>\n",
              "<p>5 rows × 24 columns</p>\n",
              "</div>\n",
              "      <button class=\"colab-df-convert\" onclick=\"convertToInteractive('df-3a11f63d-afb7-447a-9d61-9472f1abac13')\"\n",
              "              title=\"Convert this dataframe to an interactive table.\"\n",
              "              style=\"display:none;\">\n",
              "        \n",
              "  <svg xmlns=\"http://www.w3.org/2000/svg\" height=\"24px\"viewBox=\"0 0 24 24\"\n",
              "       width=\"24px\">\n",
              "    <path d=\"M0 0h24v24H0V0z\" fill=\"none\"/>\n",
              "    <path d=\"M18.56 5.44l.94 2.06.94-2.06 2.06-.94-2.06-.94-.94-2.06-.94 2.06-2.06.94zm-11 1L8.5 8.5l.94-2.06 2.06-.94-2.06-.94L8.5 2.5l-.94 2.06-2.06.94zm10 10l.94 2.06.94-2.06 2.06-.94-2.06-.94-.94-2.06-.94 2.06-2.06.94z\"/><path d=\"M17.41 7.96l-1.37-1.37c-.4-.4-.92-.59-1.43-.59-.52 0-1.04.2-1.43.59L10.3 9.45l-7.72 7.72c-.78.78-.78 2.05 0 2.83L4 21.41c.39.39.9.59 1.41.59.51 0 1.02-.2 1.41-.59l7.78-7.78 2.81-2.81c.8-.78.8-2.07 0-2.86zM5.41 20L4 18.59l7.72-7.72 1.47 1.35L5.41 20z\"/>\n",
              "  </svg>\n",
              "      </button>\n",
              "      \n",
              "  <style>\n",
              "    .colab-df-container {\n",
              "      display:flex;\n",
              "      flex-wrap:wrap;\n",
              "      gap: 12px;\n",
              "    }\n",
              "\n",
              "    .colab-df-convert {\n",
              "      background-color: #E8F0FE;\n",
              "      border: none;\n",
              "      border-radius: 50%;\n",
              "      cursor: pointer;\n",
              "      display: none;\n",
              "      fill: #1967D2;\n",
              "      height: 32px;\n",
              "      padding: 0 0 0 0;\n",
              "      width: 32px;\n",
              "    }\n",
              "\n",
              "    .colab-df-convert:hover {\n",
              "      background-color: #E2EBFA;\n",
              "      box-shadow: 0px 1px 2px rgba(60, 64, 67, 0.3), 0px 1px 3px 1px rgba(60, 64, 67, 0.15);\n",
              "      fill: #174EA6;\n",
              "    }\n",
              "\n",
              "    [theme=dark] .colab-df-convert {\n",
              "      background-color: #3B4455;\n",
              "      fill: #D2E3FC;\n",
              "    }\n",
              "\n",
              "    [theme=dark] .colab-df-convert:hover {\n",
              "      background-color: #434B5C;\n",
              "      box-shadow: 0px 1px 3px 1px rgba(0, 0, 0, 0.15);\n",
              "      filter: drop-shadow(0px 1px 2px rgba(0, 0, 0, 0.3));\n",
              "      fill: #FFFFFF;\n",
              "    }\n",
              "  </style>\n",
              "\n",
              "      <script>\n",
              "        const buttonEl =\n",
              "          document.querySelector('#df-3a11f63d-afb7-447a-9d61-9472f1abac13 button.colab-df-convert');\n",
              "        buttonEl.style.display =\n",
              "          google.colab.kernel.accessAllowed ? 'block' : 'none';\n",
              "\n",
              "        async function convertToInteractive(key) {\n",
              "          const element = document.querySelector('#df-3a11f63d-afb7-447a-9d61-9472f1abac13');\n",
              "          const dataTable =\n",
              "            await google.colab.kernel.invokeFunction('convertToInteractive',\n",
              "                                                     [key], {});\n",
              "          if (!dataTable) return;\n",
              "\n",
              "          const docLinkHtml = 'Like what you see? Visit the ' +\n",
              "            '<a target=\"_blank\" href=https://colab.research.google.com/notebooks/data_table.ipynb>data table notebook</a>'\n",
              "            + ' to learn more about interactive tables.';\n",
              "          element.innerHTML = '';\n",
              "          dataTable['output_type'] = 'display_data';\n",
              "          await google.colab.output.renderOutput(dataTable, element);\n",
              "          const docLink = document.createElement('div');\n",
              "          docLink.innerHTML = docLinkHtml;\n",
              "          element.appendChild(docLink);\n",
              "        }\n",
              "      </script>\n",
              "    </div>\n",
              "  </div>\n",
              "  "
            ]
          },
          "metadata": {},
          "execution_count": 66
        }
      ]
    },
    {
      "cell_type": "markdown",
      "source": [
        "##(c) A link to the original has been provided"
      ],
      "metadata": {
        "id": "_K5d6DI10pvi"
      }
    },
    {
      "cell_type": "markdown",
      "source": [
        "The graphical visualization of Music Industry Sales (1973 - 2018).\n",
        "![Music Industry Sales (1973 - 2018)](https://images.squarespace-cdn.com/content/v1/55b6a6dce4b089e11621d3ed/1586289545447-DCMM9Z2PIOV6JZYLKKXV/Line+graph+example.png?format=750w)\n",
        "\n",
        "Gathered from [here](https://www.storytellingwithdata.com/blog/2020/4/9/what-is-an-area-graph) on 4/24/2022."
      ],
      "metadata": {
        "id": "ALUrXtxi0tkY"
      }
    }
  ]
}