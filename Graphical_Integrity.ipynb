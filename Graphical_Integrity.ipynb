{
  "nbformat": 4,
  "nbformat_minor": 0,
  "metadata": {
    "colab": {
      "name": "Graphical_Integrity.ipynb",
      "provenance": [],
      "authorship_tag": "ABX9TyO8EutKvk39VEN9mwcT1zZu",
      "include_colab_link": true
    },
    "kernelspec": {
      "name": "python3",
      "display_name": "Python 3"
    },
    "language_info": {
      "name": "python"
    }
  },
  "cells": [
    {
      "cell_type": "markdown",
      "metadata": {
        "id": "view-in-github",
        "colab_type": "text"
      },
      "source": [
        "<a href=\"https://colab.research.google.com/github/almsalahuddin/Data-Processing-and-Visualization/blob/main/Graphical_Integrity.ipynb\" target=\"_parent\"><img src=\"https://colab.research.google.com/assets/colab-badge.svg\" alt=\"Open In Colab\"/></a>"
      ]
    },
    {
      "cell_type": "markdown",
      "source": [
        "# Quiz 22 # : CPSMA 4313 [Dr. Jacob's](https://github.com/nurfnick) Data processing visualization\n",
        "\n",
        "## Graphical Integrity\n",
        "\n",
        "### A L M SALAHUDDIN"
      ],
      "metadata": {
        "id": "rKVpVQF677uA"
      }
    },
    {
      "cell_type": "markdown",
      "source": [
        "Dear professor, I did't understand how did you calculate the lie factor. I followed you github but did't understand how to use and calculated the formula given in there."
      ],
      "metadata": {
        "id": "6HgY3ZQX0XM9"
      }
    },
    {
      "cell_type": "code",
      "execution_count": null,
      "metadata": {
        "id": "xFZHDn8u7vpk"
      },
      "outputs": [],
      "source": [
        ""
      ]
    }
  ]
}