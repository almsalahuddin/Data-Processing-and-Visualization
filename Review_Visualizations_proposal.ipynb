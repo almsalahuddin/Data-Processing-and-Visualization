{
  "nbformat": 4,
  "nbformat_minor": 0,
  "metadata": {
    "colab": {
      "name": "Review Visualizations proposal.ipynb",
      "provenance": [],
      "authorship_tag": "ABX9TyNj/d0PAN9HDzJQjbLF6d3K",
      "include_colab_link": true
    },
    "kernelspec": {
      "name": "python3",
      "display_name": "Python 3"
    },
    "language_info": {
      "name": "python"
    }
  },
  "cells": [
    {
      "cell_type": "markdown",
      "metadata": {
        "id": "view-in-github",
        "colab_type": "text"
      },
      "source": [
        "<a href=\"https://colab.research.google.com/github/almsalahuddin/Data-Processing-and-Visualization/blob/main/Review_Visualizations_proposal.ipynb\" target=\"_parent\"><img src=\"https://colab.research.google.com/assets/colab-badge.svg\" alt=\"Open In Colab\"/></a>"
      ]
    },
    {
      "cell_type": "markdown",
      "source": [
        "# Project : Review Visualizations # : CPSMA 4313 Spring 2022 [Dr. Jacob's](https://github.com/nurfnick) Data processing visualization\n",
        "\n",
        "## Review Visualizations proposal\n",
        " \n",
        "\n",
        "### A L M SALAHUDDIN"
      ],
      "metadata": {
        "id": "Ij_IFMD01IH7"
      }
    },
    {
      "cell_type": "markdown",
      "source": [
        "#1. Project Proposal:"
      ],
      "metadata": {
        "id": "2HkJugGN16J3"
      }
    },
    {
      "cell_type": "markdown",
      "source": [
        "The timely topic I have chosen for the review data visualization is \"The COVID-19 Economy’s Effects on Food, Housing, and Employment Hardships\"."
      ],
      "metadata": {
        "id": "lFF_NhVk2WDh"
      }
    },
    {
      "cell_type": "markdown",
      "source": [
        "Topic and related visualization can be found [here](https://www.cbpp.org/research/poverty-and-inequality/tracking-the-covid-19-economys-effects-on-food-housing-and)"
      ],
      "metadata": {
        "id": "MqW-za8kETkt"
      }
    },
    {
      "cell_type": "markdown",
      "source": [
        "##(a) Topic Support\n"
      ],
      "metadata": {
        "id": "E6eFkEhi19lk"
      }
    },
    {
      "cell_type": "markdown",
      "source": [
        "The COVID-19 pandemic and resulting economic fallout caused significant hardship. In the early months of the crisis, tens of millions of people lost their jobs. While employment began to rebound within a few months, unemployment remained high throughout 2020. Improving employment and substantial relief measures helped reduce the very high levels of hardship seen in the summer of 2020. Nonetheless, considerable unmet need remained near the end of 2021, with 20 million households reporting having too little to eat in the past seven days and 10 million households behind on rent. In early 2022, some 3 million fewer people are employed than before the pandemic, though steady progress has been made, including in recent months."
      ],
      "metadata": {
        "id": "vPLhZQOY3lcS"
      }
    },
    {
      "cell_type": "markdown",
      "source": [
        "##(b) Visualization Descriptions"
      ],
      "metadata": {
        "id": "4F_1KQXs2IlR"
      }
    },
    {
      "cell_type": "markdown",
      "source": [
        "The graphical visualization of COVID-19 hardship.\n",
        "![Music Industry Sales (1973 - 2018)](https://www.cbpp.org/sites/default/files/styles/report_580_high_dpi/public/2022-02/8-13-20pov_rev2-10-22_f2.png?itok=VHrzf8Vi)\n",
        "\n",
        "Gathered from [here](https://www.cbpp.org/research/poverty-and-inequality/tracking-the-covid-19-economys-effects-on-food-housing-and) on 4/24/2022."
      ],
      "metadata": {
        "id": "pFuSqOj24ZR2"
      }
    },
    {
      "cell_type": "markdown",
      "source": [
        "Above graphical visualization showing hardship due to the COVID-19 Economy’s Effects on Food, Housing, and employment. Blue line representing the percentages of all the adults who are having difficulty covering usual expencess, red line representing the percentages of adults who are not caught up on rent and yellow line representing the percentages of adults who doesn't have enough to eat."
      ],
      "metadata": {
        "id": "7bKAAO0L8fAV"
      }
    },
    {
      "cell_type": "markdown",
      "source": [
        "The graphical visualization of renters who are not caught up on rents due to COVID-19 hardship.\n",
        "![Hardship)](https://www.cbpp.org/sites/default/files/styles/report_580_high_dpi/public/2022-02/8-13-20pov_rev2-10-22_f7.png?itok=rjjcyQid)\n",
        "\n",
        "Gathered from [here](https://www.cbpp.org/research/poverty-and-inequality/tracking-the-covid-19-economys-effects-on-food-housing-and) on 4/24/2022."
      ],
      "metadata": {
        "id": "pg39JpJW7qwM"
      }
    },
    {
      "cell_type": "markdown",
      "source": [
        "Aove graphical visualization showing the percentages of 1 in 6 renters those are not caught up on their rent due to COVID-19 hardship depending on their race. Here, we can see that black, not latino faced the most and white, not latino faced the least hardship on rent."
      ],
      "metadata": {
        "id": "jc2b4BAQ5u56"
      }
    },
    {
      "cell_type": "markdown",
      "source": [
        "##(c) Learning from Topic"
      ],
      "metadata": {
        "id": "bCNH0Wxn2Nqd"
      }
    },
    {
      "cell_type": "markdown",
      "source": [
        "During 2021, a large share of people getting jobless benefits only qualified because of the temporary eligibility expansions enacted in response to the pandemic. Permanent reforms are needed to fix an underlying system in which too many unemployed workers get inadequate benefits or no benefits at all."
      ],
      "metadata": {
        "id": "s9HLE-h-3zC1"
      }
    }
  ]
}