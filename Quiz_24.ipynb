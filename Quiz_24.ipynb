{
  "nbformat": 4,
  "nbformat_minor": 0,
  "metadata": {
    "colab": {
      "name": "Quiz 24.ipynb",
      "provenance": [],
      "authorship_tag": "ABX9TyOpmAZMao8ZxwD1gwJfp+qL",
      "include_colab_link": true
    },
    "kernelspec": {
      "name": "python3",
      "display_name": "Python 3"
    },
    "language_info": {
      "name": "python"
    }
  },
  "cells": [
    {
      "cell_type": "markdown",
      "metadata": {
        "id": "view-in-github",
        "colab_type": "text"
      },
      "source": [
        "<a href=\"https://colab.research.google.com/github/almsalahuddin/Data-Processing-and-Visualization/blob/main/Quiz_24.ipynb\" target=\"_parent\"><img src=\"https://colab.research.google.com/assets/colab-badge.svg\" alt=\"Open In Colab\"/></a>"
      ]
    },
    {
      "cell_type": "markdown",
      "source": [
        "# Quiz 24 # : CPSMA 4313 [Dr. Jacob's](https://github.com/nurfnick) Data processing visualization\n",
        "\n",
        "## Amounts\n",
        "\n",
        "### A L M SALAHUDDIN"
      ],
      "metadata": {
        "id": "-SqU_vSfB-5A"
      }
    },
    {
      "cell_type": "code",
      "execution_count": null,
      "metadata": {
        "id": "o8KAreAqB7hD"
      },
      "outputs": [],
      "source": [
        ""
      ]
    }
  ]
}