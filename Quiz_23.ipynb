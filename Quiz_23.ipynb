{
  "nbformat": 4,
  "nbformat_minor": 0,
  "metadata": {
    "colab": {
      "name": "Quiz 23.ipynb",
      "provenance": [],
      "authorship_tag": "ABX9TyO48htQ6kfp3mtz2OYauUGu",
      "include_colab_link": true
    },
    "kernelspec": {
      "name": "python3",
      "display_name": "Python 3"
    },
    "language_info": {
      "name": "python"
    }
  },
  "cells": [
    {
      "cell_type": "markdown",
      "metadata": {
        "id": "view-in-github",
        "colab_type": "text"
      },
      "source": [
        "<a href=\"https://colab.research.google.com/github/almsalahuddin/Data-Processing-and-Visualization/blob/main/Quiz_23.ipynb\" target=\"_parent\"><img src=\"https://colab.research.google.com/assets/colab-badge.svg\" alt=\"Open In Colab\"/></a>"
      ]
    },
    {
      "cell_type": "markdown",
      "source": [
        "# Quiz 23 # : CPSMA 4313 [Dr. Jacob's](https://github.com/nurfnick) Data processing visualization\n",
        "\n",
        "## Graphical Sophistication\n",
        "\n",
        "### A L M SALAHUDDIN"
      ],
      "metadata": {
        "id": "jKL3Dtm_86QM"
      }
    },
    {
      "cell_type": "markdown",
      "source": [
        "##Question: Find two charts that were not discussed during class today and examine them for graphical excellence, sophistication and integrity. You should write about 100 words about each graph and include the image and a link to where it can be found."
      ],
      "metadata": {
        "id": "QFiVbZ7-H3Ex"
      }
    },
    {
      "cell_type": "markdown",
      "source": [
        "First Chart that I have found is a pie chart and graphical vizualization is attached below."
      ],
      "metadata": {
        "id": "Xg8xd8kyH7mI"
      }
    },
    {
      "cell_type": "markdown",
      "source": [
        "![](https://64.media.tumblr.com/d8bcf748d564125312aeba4001b96df5/tumblr_qzg4n3nfJY1sgh0voo1_640.jpg)\n",
        "\n",
        "Gathered from [here](https://viz.wtf) on 3/27/2022."
      ],
      "metadata": {
        "id": "pmwVgHvFHC_M"
      }
    },
    {
      "cell_type": "markdown",
      "source": [
        "Above, we can see a graphical visualization of a survey result in a newspaper—the pie chart representing the result of Saturday's election. The total number of votes is 570. The pie chart presented here does not accurately represent what's in the data being visualized. The more significant green portion of the graph is supposed to show Julia Gillard received 517 votes. But currently, it's showing the more important part for 53 votes and a minor part of red for 517 votes which distorted the inherent facts and analytical findings. Therefore, it failed the graphical integrity and sophistication. \n",
        "\n",
        "Except for the wrong information, the pie chart used for communicating the main idea is precise and efficient. So, it should pass the graphical excellence. \n"
      ],
      "metadata": {
        "id": "LqZoI3CjISiD"
      }
    },
    {
      "cell_type": "markdown",
      "source": [
        "Next I have another news article where it showes"
      ],
      "metadata": {
        "id": "xvqd4neDIzXU"
      }
    },
    {
      "cell_type": "markdown",
      "source": [
        "![](https://64.media.tumblr.com/d2c03b326c699b78a720a2fd2db82c9a/tumblr_qxi7ozO66T1sgh0voo1_1280.jpg)\n",
        "\n",
        "Gathered from [here](https://viz.wtf) on 3/27/2022."
      ],
      "metadata": {
        "id": "_SnA5cq8HlE_"
      }
    },
    {
      "cell_type": "markdown",
      "source": [
        "Above, we can see a graphical visualization of overdose epidemic data. A pie chart and bar chart has been used for representing the data discussed in the article. These charts overlap each other. \n",
        "There is no description for the color used for each chart. It is impossible to understand how the bars and pie slices relate to each other. Therefore, they fail the graphical excellence and sophistication.  \n",
        "Graphical integrity means ensuring that what's presented accurately represents what's in the data being visualized and that no design choices distort or obfuscate the inherent facts and analytical findings. From these two graphs, it's not possible to gather any information related to the article. Therefore, they fail the graphical integrity."
      ],
      "metadata": {
        "id": "zmNQuBHEBZoM"
      }
    }
  ]
}