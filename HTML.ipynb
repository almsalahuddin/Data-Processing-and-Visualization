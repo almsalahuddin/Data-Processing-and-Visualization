{
  "nbformat": 4,
  "nbformat_minor": 0,
  "metadata": {
    "colab": {
      "name": "HTML.ipynb",
      "provenance": [],
      "authorship_tag": "ABX9TyO+msbTVvWJBansaW2TvrE+",
      "include_colab_link": true
    },
    "kernelspec": {
      "name": "python3",
      "display_name": "Python 3"
    },
    "language_info": {
      "name": "python"
    }
  },
  "cells": [
    {
      "cell_type": "markdown",
      "metadata": {
        "id": "view-in-github",
        "colab_type": "text"
      },
      "source": [
        "<a href=\"https://colab.research.google.com/github/almsalahuddin/Data-Processing-and-Visualization/blob/main/HTML.ipynb\" target=\"_parent\"><img src=\"https://colab.research.google.com/assets/colab-badge.svg\" alt=\"Open In Colab\"/></a>"
      ]
    },
    {
      "cell_type": "markdown",
      "source": [
        "# Quiz 8 # : CPSMA 4313 [Dr. Jacob's](https://github.com/nurfnick) Data processing visualization\n",
        "\n",
        "## HTML\n",
        "\n",
        "### A L M SALAHUDDIN"
      ],
      "metadata": {
        "id": "M86RzRNYtI4w"
      }
    },
    {
      "cell_type": "markdown",
      "source": [
        "##Importing Libraries"
      ],
      "metadata": {
        "id": "z4M4AWqmuq2x"
      }
    },
    {
      "cell_type": "markdown",
      "source": [
        "First, Let's import the libraries to read data from the web."
      ],
      "metadata": {
        "id": "jowV-NJBvAxW"
      }
    },
    {
      "cell_type": "code",
      "execution_count": 1,
      "metadata": {
        "id": "QGzDTBtYscgf"
      },
      "outputs": [],
      "source": [
        "import requests\n",
        "import pandas as pa\n",
        "from bs4 import BeautifulSoup"
      ]
    },
    {
      "cell_type": "markdown",
      "source": [
        "##Making Requests"
      ],
      "metadata": {
        "id": "h6ImaV7Cuw9Q"
      }
    },
    {
      "cell_type": "markdown",
      "source": [
        "Next, I will make request to collect all the data for one of my favourite TV shows from wikipedia web page."
      ],
      "metadata": {
        "id": "gX3Ao-VLvS14"
      }
    },
    {
      "cell_type": "code",
      "source": [
        "r = requests.get('https://en.wikipedia.org/wiki/Friends')\n",
        "html_contents = r.text\n",
        "html_soup = BeautifulSoup(html_contents,\"lxml\")"
      ],
      "metadata": {
        "id": "oPI8nmfZt1Gs"
      },
      "execution_count": 4,
      "outputs": []
    },
    {
      "cell_type": "markdown",
      "source": [
        "##Extracting Title"
      ],
      "metadata": {
        "id": "UWNWm_ztu27X"
      }
    },
    {
      "cell_type": "markdown",
      "source": [
        "Now, I will find the title of the show."
      ],
      "metadata": {
        "id": "UII_26NswDhZ"
      }
    },
    {
      "cell_type": "code",
      "source": [
        "html_soup.title"
      ],
      "metadata": {
        "colab": {
          "base_uri": "https://localhost:8080/"
        },
        "id": "SPKtp950uBr5",
        "outputId": "6aebc9d8-07dc-4548-ab7b-2a8672c43cd9"
      },
      "execution_count": 5,
      "outputs": [
        {
          "output_type": "execute_result",
          "data": {
            "text/plain": [
              "<title>Friends - Wikipedia</title>"
            ]
          },
          "metadata": {},
          "execution_count": 5
        }
      ]
    },
    {
      "cell_type": "markdown",
      "source": [
        "As we can see above, we have got the show's name \"Friends\"."
      ],
      "metadata": {
        "id": "DX5TCtylwJrt"
      }
    },
    {
      "cell_type": "markdown",
      "source": [
        "##Extracting Links"
      ],
      "metadata": {
        "id": "VL2cKZ5Lu8HO"
      }
    },
    {
      "cell_type": "markdown",
      "source": [
        "Next, I will be extracting all the links from the web page below."
      ],
      "metadata": {
        "id": "LpmJDAYNwGRP"
      }
    },
    {
      "cell_type": "code",
      "source": [
        "links = html_soup.table.find_all('a')\n",
        "listOfURLS = []\n",
        "\n",
        "for link in links:\n",
        "  listOfURLS.append('https://en.wikipedia.org' + link['href'])\n",
        "\n",
        "listOfURLS"
      ],
      "metadata": {
        "colab": {
          "base_uri": "https://localhost:8080/"
        },
        "id": "MUGiu6ZouUbY",
        "outputId": "1c5e4587-af74-4a5e-c99d-457974dc18d9"
      },
      "execution_count": 7,
      "outputs": [
        {
          "output_type": "execute_result",
          "data": {
            "text/plain": [
              "['https://en.wikipedia.org/wiki/File:Friends_logo.svg',\n",
              " 'https://en.wikipedia.org/wiki/David_Crane_(producer)',\n",
              " 'https://en.wikipedia.org/wiki/Marta_Kauffman',\n",
              " 'https://en.wikipedia.org/wiki/Jennifer_Aniston',\n",
              " 'https://en.wikipedia.org/wiki/Courteney_Cox',\n",
              " 'https://en.wikipedia.org/wiki/Lisa_Kudrow',\n",
              " 'https://en.wikipedia.org/wiki/Matt_LeBlanc',\n",
              " 'https://en.wikipedia.org/wiki/Matthew_Perry',\n",
              " 'https://en.wikipedia.org/wiki/David_Schwimmer',\n",
              " 'https://en.wikipedia.org/wiki/Allee_Willis',\n",
              " 'https://en.wikipedia.org/wiki/I%27ll_Be_There_for_You_(The_Rembrandts_song)',\n",
              " 'https://en.wikipedia.org/wiki/The_Rembrandts',\n",
              " 'https://en.wikipedia.org/wiki/List_of_Friends_episodes',\n",
              " 'https://en.wikipedia.org/wiki/Kevin_S._Bright',\n",
              " 'https://en.wikipedia.org/wiki/Michael_Borkow',\n",
              " 'https://en.wikipedia.org/wiki/Michael_Curtis_(TV_producer)',\n",
              " 'https://en.wikipedia.org/wiki/Adam_Chase_(writer)',\n",
              " 'https://en.wikipedia.org/wiki/Greg_Malins',\n",
              " 'https://en.wikipedia.org/wiki/Wil_Calhoun',\n",
              " 'https://en.wikipedia.org/wiki/Scott_Silveri',\n",
              " 'https://en.wikipedia.org/wiki/Shana_Goldberg-Meehan',\n",
              " 'https://en.wikipedia.org/wiki/Andrew_Reich',\n",
              " 'https://en.wikipedia.org/wiki/Warner_Bros._Studios,_Burbank',\n",
              " 'https://en.wikipedia.org/wiki/Burbank,_California',\n",
              " 'https://en.wikipedia.org/wiki/Multiple-camera_setup',\n",
              " 'https://en.wikipedia.org/wiki/Kevin_S._Bright',\n",
              " 'https://en.wikipedia.org/wiki/Warner_Bros._Television',\n",
              " 'https://en.wikipedia.org/wiki/Warner_Bros._Television_Distribution',\n",
              " 'https://en.wikipedia.org/wiki/NBC',\n",
              " 'https://en.wikipedia.org/wiki/NTSC',\n",
              " 'https://en.wikipedia.org/wiki/Dolby_Surround',\n",
              " 'https://en.wikipedia.org/wiki/Joey_(TV_series)',\n",
              " 'https://en.wikipedia.org/wiki/Friends:_The_Reunion']"
            ]
          },
          "metadata": {},
          "execution_count": 7
        }
      ]
    }
  ]
}