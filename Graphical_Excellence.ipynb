{
  "nbformat": 4,
  "nbformat_minor": 0,
  "metadata": {
    "colab": {
      "name": "Graphical_Excellence.ipynb",
      "provenance": [],
      "authorship_tag": "ABX9TyNmjEw5P6kFSG7jHOTXFhy1",
      "include_colab_link": true
    },
    "kernelspec": {
      "name": "python3",
      "display_name": "Python 3"
    },
    "language_info": {
      "name": "python"
    }
  },
  "cells": [
    {
      "cell_type": "markdown",
      "metadata": {
        "id": "view-in-github",
        "colab_type": "text"
      },
      "source": [
        "<a href=\"https://colab.research.google.com/github/almsalahuddin/Data-Processing-and-Visualization/blob/main/Graphical_Excellence.ipynb\" target=\"_parent\"><img src=\"https://colab.research.google.com/assets/colab-badge.svg\" alt=\"Open In Colab\"/></a>"
      ]
    },
    {
      "cell_type": "markdown",
      "source": [
        "# Quiz 21 # : CPSMA 4313 [Dr. Jacob's](https://github.com/nurfnick) Data processing visualization\n",
        "\n",
        "## Graphical Excellence\n",
        "\n",
        "### A L M SALAHUDDIN"
      ],
      "metadata": {
        "id": "kleJdQi63GBZ"
      }
    },
    {
      "cell_type": "markdown",
      "source": [
        "Let's examine the graphical visualization of John Snow's map of Cholera.\n",
        "![cholera outbreak in 1854](https://upload.wikimedia.org/wikipedia/commons/2/27/Snow-cholera-map-1.jpg)"
      ],
      "metadata": {
        "id": "Qb7CRV_3e7Wg"
      }
    },
    {
      "cell_type": "markdown",
      "source": [
        "1.\tDuring the deadly cholera epidemic in 1854, John snow created a map of London. Snow tracked the cases in the map. He highlighted the cholera cases in black. Each highlighted bars represents a home where there was a cholera death. Most of the cholera deaths concentrated in the area bordered by Marlborough, Berwick, Brewer, and King Streets. The Broad Street pump with cholera-infected water was located right at the center of most deaths. John Snow used the power of mapping to make a major contribution to fighting cholera when he was able to demonstrate a link between cholera and the contaminated drinking water."
      ],
      "metadata": {
        "id": "FpWtgZuzfk2a"
      }
    },
    {
      "cell_type": "markdown",
      "source": [
        "2. The modern reference to the map would be Flint River water crisis that started in 2014 and lasted until 2019. In the flint river map, different colors are used as a method of communicating statistics. A color represents a number, creating a visual map of the residential water service lines (pipes) in the City of Flint, Michigan. The map is designed to help residents easily find out the known or likely materials of their water service lines."
      ],
      "metadata": {
        "id": "QYDZjrQ6rLUu"
      }
    },
    {
      "cell_type": "markdown",
      "source": [
        "\n",
        "![cholera outbreak in 1854](https://assets.nrdc.org/sites/default/files/styles/full_content--retina/public/media-uploads/header-map-image.jpg?itok=K71qM_91)\n",
        "\n",
        "Gathered from [here](https://www.nrdc.org/experts/stacy-woods/flint-map-shows-progress-reveals-where-lead-likely-remains) on 3/23/2022."
      ],
      "metadata": {
        "id": "Q6labQgLrRoY"
      }
    }
  ]
}