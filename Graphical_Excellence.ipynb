{
  "nbformat": 4,
  "nbformat_minor": 0,
  "metadata": {
    "colab": {
      "name": "Graphical_Excellence.ipynb",
      "provenance": [],
      "authorship_tag": "ABX9TyNh5kkIfYmlWzS18BQGXu5c",
      "include_colab_link": true
    },
    "kernelspec": {
      "name": "python3",
      "display_name": "Python 3"
    },
    "language_info": {
      "name": "python"
    }
  },
  "cells": [
    {
      "cell_type": "markdown",
      "metadata": {
        "id": "view-in-github",
        "colab_type": "text"
      },
      "source": [
        "<a href=\"https://colab.research.google.com/github/almsalahuddin/Data-Processing-and-Visualization/blob/main/Graphical_Excellence.ipynb\" target=\"_parent\"><img src=\"https://colab.research.google.com/assets/colab-badge.svg\" alt=\"Open In Colab\"/></a>"
      ]
    },
    {
      "cell_type": "markdown",
      "source": [
        "# Quiz 21 # : CPSMA 4313 [Dr. Jacob's](https://github.com/nurfnick) Data processing visualization\n",
        "\n",
        "## Graphical Excellence\n",
        "\n",
        "### A L M SALAHUDDIN"
      ],
      "metadata": {
        "id": "kleJdQi63GBZ"
      }
    },
    {
      "cell_type": "markdown",
      "source": [
        "Let's examine the graphical visualization of John Snow's map of Cholera.\n",
        "![cholera outbreak in 1854](https://media.nationalgeographic.org/assets/photos/000/276/27636.jpg)"
      ],
      "metadata": {
        "id": "Qb7CRV_3e7Wg"
      }
    },
    {
      "cell_type": "markdown",
      "source": [
        "## Question 1: Examine John Snow's map of cholera outbreak in 1854 for 'graphical excellence'. Discuss the highlights of the graphic."
      ],
      "metadata": {
        "id": "tBp5WcQk10Ar"
      }
    },
    {
      "cell_type": "markdown",
      "source": [
        "During the deadly cholera epidemic in 1854, John snow created a map of London. Snow tracked the cases in the map. He highlighted the cholera cases in black. Each highlighted bars represents a home where there was a cholera death. Most of the cholera deaths concentrated in the area bordered by Marlborough, Berwick, Brewer, and King Streets. The Broad Street pump with cholera-infected water was located right at the center of most deaths. John Snow used the power of mapping to make a major contribution to fighting cholera when he was able to demonstrate a link between cholera and the contaminated drinking water."
      ],
      "metadata": {
        "id": "FpWtgZuzfk2a"
      }
    },
    {
      "cell_type": "markdown",
      "source": [
        "## Question 2: Find a modern reference and dicuss the excellence displayed. Include a link and image in your report."
      ],
      "metadata": {
        "id": "zwpb117n13vN"
      }
    },
    {
      "cell_type": "markdown",
      "source": [
        "The modern reference to the map would be the Flint River water crisis that started in 2014 and lasted till 2019. The city of Flint switched its water source from the Detroit water system to the Flint River, and Tens of thousands of Flint residents were exposed to dangerous levels of lead, and outbreaks of Legionnaire disease killed at least 12 people and sickened dozens more. \n",
        "In the flint river map, different colors are used as a method of communicating statistics. Color represents a number, creating a visual map of the residential water service lines (pipes) in the City of Flint, Michigan. The map is designed to help residents easily find out their water service lines' known or likely materials.\n"
      ],
      "metadata": {
        "id": "QYDZjrQ6rLUu"
      }
    },
    {
      "cell_type": "markdown",
      "source": [
        "The graphical visualization of Flint River water crisis.\n",
        "![cholera outbreak in 1854](https://assets.nrdc.org/sites/default/files/styles/full_content--retina/public/media-uploads/header-map-image.jpg?itok=K71qM_91)\n",
        "\n",
        "Gathered from [here](https://www.nrdc.org/experts/stacy-woods/flint-map-shows-progress-reveals-where-lead-likely-remains) on 3/23/2022."
      ],
      "metadata": {
        "id": "Q6labQgLrRoY"
      }
    }
  ]
}