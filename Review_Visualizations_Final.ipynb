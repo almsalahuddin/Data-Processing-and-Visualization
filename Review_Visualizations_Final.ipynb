{
  "nbformat": 4,
  "nbformat_minor": 0,
  "metadata": {
    "colab": {
      "name": "Review Visualizations Final.ipynb",
      "provenance": [],
      "collapsed_sections": [],
      "authorship_tag": "ABX9TyOvOugMs856Ln57cT3gZqnq",
      "include_colab_link": true
    },
    "kernelspec": {
      "name": "python3",
      "display_name": "Python 3"
    },
    "language_info": {
      "name": "python"
    }
  },
  "cells": [
    {
      "cell_type": "markdown",
      "metadata": {
        "id": "view-in-github",
        "colab_type": "text"
      },
      "source": [
        "<a href=\"https://colab.research.google.com/github/almsalahuddin/Data-Processing-and-Visualization/blob/main/Review_Visualizations_Final.ipynb\" target=\"_parent\"><img src=\"https://colab.research.google.com/assets/colab-badge.svg\" alt=\"Open In Colab\"/></a>"
      ]
    },
    {
      "cell_type": "markdown",
      "source": [
        "# Project Review Visualizations # : CPSMA 4313 Spring 2022 [Dr. Nicholas Jacob's](https://github.com/nurfnick) Data processing visualization\n",
        "\n",
        "## Project Review Visualizations Final\n",
        " \n",
        "\n",
        "### A L M SALAHUDDIN"
      ],
      "metadata": {
        "id": "Ij_IFMD01IH7"
      }
    },
    {
      "cell_type": "markdown",
      "source": [
        "#3. Project Paper:"
      ],
      "metadata": {
        "id": "2HkJugGN16J3"
      }
    },
    {
      "cell_type": "markdown",
      "source": [
        "##(a) The topic is properly motivated with reasons why it is timely and what you hope to show with your report.\n"
      ],
      "metadata": {
        "id": "E6eFkEhi19lk"
      }
    },
    {
      "cell_type": "markdown",
      "source": [
        "The timely topic I have chosen for the review data visualization is \"The COVID-19 Economy’s Effects on Food, Housing, and Employment Hardships\". First, In January 20, 2020 CDC confirms the first U.S. laboratory-confirmed case of COVID-19 in the U.S. from samples taken on January 18 in Washington state. Since then till now, the COVID-19 pandemic has caused a devastating loss of life but it has also devastated the nation's economy. The COVID-19 pandemic and resulting economic fallout caused significant hardship. In the early months of the crisis, tens of millions of people lost their jobs. While employment began to rebound within a few months, unemployment remained high throughout 2020. Improving employment and substantial relief measures helped reduce the very high levels of hardship seen in the summer of 2020. Nonetheless, considerable unmet need remained near the end of 2021, with 20 million households reporting having too little to eat in the past seven days and 10 million households behind on rent. In early 2022, some 3 million fewer people are employed than before the pandemic, though steady progress has been made, including in recent months."
      ],
      "metadata": {
        "id": "vPLhZQOY3lcS"
      }
    },
    {
      "cell_type": "markdown",
      "source": [
        "##(b) At least 3 references are made to current articles that include data visualization."
      ],
      "metadata": {
        "id": "RbFwRLNmOeKO"
      }
    },
    {
      "cell_type": "markdown",
      "source": [
        "[1st reference](https://www.cbpp.org/research/poverty-and-inequality/tracking-the-covid-19-economys-effects-on-food-housing-and): The COVID-19 Economy’s Effects on Food, Housing, and Employment Hardships.\n",
        "\n",
        "[2nd reference](https://www.brookings.edu/blog/up-front/2020/07/13/covid-19-job-and-income-loss-leading-to-more-hunger-and-financial-hardship/): COVID-19 job and income loss leading to more hunger and financial hardship\n",
        "\n",
        "[3rd reference](https://www.pewresearch.org/social-trends/2020/09/24/economic-fallout-from-covid-19-continues-to-hit-lower-income-americans-the-hardest/): Economic Fallout From COVID-19 Continues To Hit Lower-Income Americans the Hardest."
      ],
      "metadata": {
        "id": "MqW-za8kETkt"
      }
    },
    {
      "cell_type": "markdown",
      "source": [
        "##(c) Each visualization is examined and explained. Any errors or omissions are highlighted. Graphical excellence of each is discussed."
      ],
      "metadata": {
        "id": "4F_1KQXs2IlR"
      }
    },
    {
      "cell_type": "markdown",
      "source": [
        "The graphical visualization of COVID-19 hardship.\n",
        "![Music Industry Sales (1973 - 2018)](https://www.cbpp.org/sites/default/files/styles/report_580_high_dpi/public/2022-02/8-13-20pov_rev2-10-22_f2.png?itok=VHrzf8Vi)\n",
        "\n",
        "Gathered from [here](https://www.cbpp.org/research/poverty-and-inequality/tracking-the-covid-19-economys-effects-on-food-housing-and) on 4/24/2022."
      ],
      "metadata": {
        "id": "pFuSqOj24ZR2"
      }
    },
    {
      "cell_type": "markdown",
      "source": [
        "Above graphical visualization showing hardship due to the COVID-19 Economy’s Effects on Food, Housing, and employment. Blue line representing the percentages of all the adults who are having difficulty covering usual expencess, red line representing the percentages of adults who are not caught up on rent and yellow line representing the percentages of adults who doesn't have enough to eat. This graph is excellent because it has year, month and date included on x axis and y axis has percentage value and used different colors for each line. This article's data also could be bar graph instead of line graph."
      ],
      "metadata": {
        "id": "7bKAAO0L8fAV"
      }
    },
    {
      "cell_type": "markdown",
      "source": [
        "The graphical visualization of renters who are not caught up on rents due to COVID-19 hardship.\n",
        "![Hardship)](https://www.cbpp.org/sites/default/files/styles/report_580_high_dpi/public/2022-02/8-13-20pov_rev2-10-22_f7.png?itok=rjjcyQid)\n",
        "\n",
        "Gathered from [here](https://www.cbpp.org/research/poverty-and-inequality/tracking-the-covid-19-economys-effects-on-food-housing-and) on 4/24/2022."
      ],
      "metadata": {
        "id": "pg39JpJW7qwM"
      }
    },
    {
      "cell_type": "markdown",
      "source": [
        "Aove graphical visualization showing the percentages of 1 in 6 renters those are not caught up on their rent due to COVID-19 hardship depending on their race. Here, we can see that black, not latino faced the most and white, not latino faced the least hardship on rent. This visualization is good but all the bar has same color instead of using different colors to show different race."
      ],
      "metadata": {
        "id": "jc2b4BAQ5u56"
      }
    },
    {
      "cell_type": "markdown",
      "source": [
        "COVID-19 job and income loss leading to more hunger and financial hardship.\n",
        "![Hardship)](https://i1.wp.com/www.brookings.edu/wp-content/uploads/2020/07/200713_global_job_loss_fig1.png?w=768&crop=0%2C0px%2C100%2C9999px&ssl=1)\n",
        "\n",
        "Gathered from [here](https://www.brookings.edu/blog/up-front/2020/07/13/covid-19-job-and-income-loss-leading-to-more-hunger-and-financial-hardship/) on 5/6/2022."
      ],
      "metadata": {
        "id": "OgSKzA50XjNx"
      }
    },
    {
      "cell_type": "markdown",
      "source": [
        "Aove graphical visualization showing the Percentage of respondents reporting COVID-19-related job or income loss, by race/ ethnicity. Here, we can see different senario than the previous article's graph. Over here statics shows hispanic ethnic people lost most amount of job or income loss due to covid 19 where black ethnic people lost least amount of job. This graph is also made of using same colored bars but insted they could use different colors to show different group of race. Also, they didn't include month and year of the datas in their graph. They used percentage on the y axis and then also annotated percentages again on the top of the each graph which was not necessary. Instead, they could use month and a year. This graph also could have been a line graph like 1st referenced graph instead of bar garph with the month and year included on the x axis."
      ],
      "metadata": {
        "id": "W9p6ZHPFb4Aq"
      }
    },
    {
      "cell_type": "markdown",
      "source": [
        "Economic Fallout From COVID-19 Continues To Hit Lower-Income Americans the Hardest.\n",
        "![Hardship)](https://www.pewresearch.org/social-trends/wp-content/uploads/sites/3/2020/09/SDT_2020.09.22_covid-personal-finances_0-01.png)\n",
        "\n",
        "Gathered from [here](https://www.pewresearch.org/social-trends/2020/09/24/economic-fallout-from-covid-19-continues-to-hit-lower-income-americans-the-hardest/) on 5/6/2022."
      ],
      "metadata": {
        "id": "CQQ5-0OAX5V-"
      }
    },
    {
      "cell_type": "markdown",
      "source": [
        "Aove graphical visualization showing the Percentage of financial pain points during coronavirus outbreak differ widely by race, ethnicity and income. This graph showing exactly same types of data comparison like previous graphs using race of the people and have some extra comparison using peoples income. Here, black ethnic people suffered most to pay their bills, gotten food from foodband and had most trouble paying rent or mortgage. On the other hand, white ethnic people suffered least on every issues. This graph is pretty good but one thing I would like to include is the date and year. Every vizualization should have date and year that show's the data collected time."
      ],
      "metadata": {
        "id": "sybtzxjWe6S5"
      }
    },
    {
      "cell_type": "markdown",
      "source": [
        "##(d) An explanation of why the visualizations helped to improve the article is included. Be sure to consider any bias of the organization."
      ],
      "metadata": {
        "id": "khw0dXXXOply"
      }
    },
    {
      "cell_type": "markdown",
      "source": [
        "Inside the 1st reference article, there is big dataset in the bottom where all the US state's iconomic hardships are listed as numbers and percentages. We could never find out which types of ethnic group has suffered more and due to what causes just looking at that big dataset. In that case, visualizations listed with the article giving us clear idea about the whole dataset.\n",
        "\n",
        "2nd reference article has datails about how COVID-19 job and income loss leading to more hunger and financial hardship but dosen't have any datas what shows the actual senario of the hardship. In that case, visualization listed inside article giving us proper idea that how much and which group of people are being affected on this issue.\n",
        "\n",
        "3rd reference article has details abot how economic Fallout From COVID-19 Continues To Hit Lower-Income Americans the Hardest. In this article writers provided good details of the situation in percentages and described properly. I would be able to get proper knowledge abot the situation just by reading the article but visualization was important because it simplifies the task of communicating many small data points as well as large, abstract concepts.\n",
        "\n",
        "In a nutshell, data visualization was important in those article because it can give viewers an immediate and profound impression, and cut through the clutter of a complex story to get right to the point."
      ],
      "metadata": {
        "id": "Oy7h6yRShZ1Y"
      }
    },
    {
      "cell_type": "markdown",
      "source": [
        "##(e) Similarities and differences between the visualizations are examined."
      ],
      "metadata": {
        "id": "50xadb2GOuWC"
      }
    },
    {
      "cell_type": "markdown",
      "source": [
        "The similarities among the vizualizations above are that all the graph showed iconomical hardship due to covid 19 pandemic among different kinds of ethnic group of people living in USA. Some are used line graph and some are used bar graph but the message of the visualization were same. Only difference is they have used datas from diffrent sources and those datas were collected at different time frame."
      ],
      "metadata": {
        "id": "1JGWHX7xhaON"
      }
    },
    {
      "cell_type": "markdown",
      "source": [
        "##(f) The report includes your name, a title, the course name, number and instructor."
      ],
      "metadata": {
        "id": "yUOfhcvUOwbw"
      }
    },
    {
      "cell_type": "markdown",
      "source": [
        "I created this project using Jupyter notebook and includes my project title, my name, the course name, number and my instructor name at the beginning of this page."
      ],
      "metadata": {
        "id": "lZhnxtAyPZRA"
      }
    }
  ]
}