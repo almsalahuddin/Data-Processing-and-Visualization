{
  "nbformat": 4,
  "nbformat_minor": 0,
  "metadata": {
    "colab": {
      "name": "String.ipynb",
      "provenance": [],
      "authorship_tag": "ABX9TyPxxBYfqWalCKbZmLrgxZP+",
      "include_colab_link": true
    },
    "kernelspec": {
      "name": "python3",
      "display_name": "Python 3"
    },
    "language_info": {
      "name": "python"
    }
  },
  "cells": [
    {
      "cell_type": "markdown",
      "metadata": {
        "id": "view-in-github",
        "colab_type": "text"
      },
      "source": [
        "<a href=\"https://colab.research.google.com/github/almsalahuddin/Data-Processing-and-Visualization/blob/main/String.ipynb\" target=\"_parent\"><img src=\"https://colab.research.google.com/assets/colab-badge.svg\" alt=\"Open In Colab\"/></a>"
      ]
    },
    {
      "cell_type": "markdown",
      "source": [
        "# Quiz 14 # : CPSMA 4313 [Dr. Jacob's](https://github.com/nurfnick) Data processing visualization\n",
        "\n",
        "## String\n",
        "\n",
        "### A L M SALAHUDDIN"
      ],
      "metadata": {
        "id": "Rvr0J4ijD6J-"
      }
    },
    {
      "cell_type": "markdown",
      "source": [
        "Lets print our song first."
      ],
      "metadata": {
        "id": "2uj9h3RSJCZi"
      }
    },
    {
      "cell_type": "code",
      "execution_count": null,
      "metadata": {
        "colab": {
          "base_uri": "https://localhost:8080/"
        },
        "id": "9NyHBimoDAnx",
        "outputId": "49d8371f-d19e-4150-f184-555e6fb441dd"
      },
      "outputs": [
        {
          "output_type": "stream",
          "name": "stdout",
          "text": [
            "Happy Birthday to you! \n",
            "Happy Birthday to you! \n",
            "Happy Birthday Dear (name) \n",
            "Happy Birthday to you!\n"
          ]
        }
      ],
      "source": [
        "wish_song=(\"Happy Birthday to you!\" +\" \\n\"+ \"Happy Birthday to you!\"+\" \\n\"+ \"Happy Birthday Dear (name)\" +\" \"+\"\\n\" + \"Happy Birthday to you!\")\n",
        "\n",
        "print(wish_song)"
      ]
    },
    {
      "cell_type": "markdown",
      "source": [
        "Now, I will replace name with my name in the song."
      ],
      "metadata": {
        "id": "UBCfOL_KRtwl"
      }
    },
    {
      "cell_type": "code",
      "source": [
        "song_with_name =wish_song.replace('(name)','Salahuddin')\n",
        "print(song_with_name)"
      ],
      "metadata": {
        "colab": {
          "base_uri": "https://localhost:8080/"
        },
        "id": "C0v5hMoAHbt2",
        "outputId": "cf5134b3-a2e9-472b-9fc7-3b086570b151"
      },
      "execution_count": null,
      "outputs": [
        {
          "output_type": "stream",
          "name": "stdout",
          "text": [
            "Happy Birthday to you! \n",
            "Happy Birthday to you! \n",
            "Happy Birthday Dear Salahuddin \n",
            "Happy Birthday to you!\n"
          ]
        }
      ]
    }
  ]
}